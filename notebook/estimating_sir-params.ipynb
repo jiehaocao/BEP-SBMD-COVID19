{
 "cells": [
  {
   "cell_type": "markdown",
   "metadata": {},
   "source": [
    "# Compartmental models in epidemiology - Parameter estimation "
   ]
  },
  {
   "cell_type": "markdown",
   "metadata": {},
   "source": [
    "**Authors:** J.H. Cao \n",
    "<br>\n",
    "**Supervisors:** prof.dr.ir. N.A.W. van Riel, dr. D. Bosnacki\n",
    "<br>\n",
    "**Deparment:** Biomedical Engineering, Computational Biology Group at Eindhoven University of Technology"
   ]
  },
  {
   "cell_type": "markdown",
   "metadata": {},
   "source": [
    "This notebook contain the codes to model and simulate an epidemic. The focus is on **_two popular models_** used for the mathematical modelling of an infectious disease.\n",
    "\n",
    "The two models are: \n",
    "<br>"
   ]
  },
  {
   "cell_type": "markdown",
   "metadata": {},
   "source": [
    "1. **SIR model without vital dynamics, usually for the modelling of flu or epidemic**\n",
    "2. **SEIRD model, above model with extra compartments \"E\"xposed and \"D\"eceased**"
   ]
  },
  {
   "cell_type": "markdown",
   "metadata": {},
   "source": [
    " More specifically, these models will be used to model the spread of **COVID-19** in the Netherlands. Furhtermore, with the **SEIR** model, it a possible to get an estimate of the number of people exposed to COVID-19 ( _this is an estimate, the true number can only be verified with testing_ ). \n",
    "<br><br>\n",
    "With these models, it is also possible to analyse whether a \"lockdown\" has any effect on the course/spread of this virus.\n"
   ]
  },
  {
   "cell_type": "markdown",
   "metadata": {},
   "source": [
    "## Imports packages"
   ]
  },
  {
   "cell_type": "code",
   "execution_count": 1,
   "metadata": {
    "collapsed": true,
    "pycharm": {
     "is_executing": false
    }
   },
   "outputs": [],
   "source": [
    "import pandas as pd\n",
    "import numpy as np\n",
    "import matplotlib.pyplot as plt\n",
    "%matplotlib inline\n",
    "from scipy.integrate import odeint\n",
    "from scipy.optimize import curve_fit \n",
    "plt.rcParams['figure.facecolor'] = 'white'\n",
    "\n",
    "\n",
    "\n",
    "import lmfit\n",
    "\n",
    "\n",
    "import warnings\n",
    "warnings.filterwarnings('ignore')"
   ]
  },
  {
   "cell_type": "markdown",
   "metadata": {
    "pycharm": {
     "name": "#%% md\n"
    }
   },
   "source": [
    "## SEIRD MODEL"
   ]
  },
  {
   "cell_type": "code",
   "execution_count": 2,
   "metadata": {
    "pycharm": {
     "is_executing": false,
     "name": "#%%\n"
    }
   },
   "outputs": [],
   "source": [
    "# Define the SIR model for parameter estimation \n",
    "\n",
    "# Sanity check for VARIABLES:\n",
    "\n",
    "    # S = Number of Susceptible \n",
    "    # N = Total population size \n",
    "    # I = Number of Infected (can infect others)\n",
    "    # R = Number of Recovered (and assumed that they are immune to COVID-19)\n",
    "\n",
    "# Sanity check for PARAMETERS:\n",
    "    \n",
    "    # (1) beta(t) = time dependent beta, is the number of people an infected person \n",
    "    # infects on average and is calculated by ( Reproductive_number(t) * gamma )\n",
    "    \n",
    "    # (2) gamma   =  recovery rate, an infected person recovers from this disease\n",
    "    # thus it is ( 1 / the amount of days from being infected to recovered)\n",
    "    "
   ]
  },
  {
   "cell_type": "code",
   "execution_count": 3,
   "metadata": {
    "pycharm": {
     "is_executing": false,
     "name": "#%%\n"
    }
   },
   "outputs": [],
   "source": [
    "# Build the system in time regarding differential equations of the SEIR(D) model \n",
    "\n",
    "def system_sir(y, t, N, beta, gamma):\n",
    "    S, I, R= y\n",
    "    \n",
    "    dS_dt = -beta(t) * I * (S / N)\n",
    "    dI_dt = beta(t) * I * (S / N) - gamma * I \n",
    "    dR_dt = gamma * I \n",
    "    \n",
    "    \n",
    "    return dS_dt, dI_dt, dR_dt\n",
    "\n",
    "# Define a logitic Reproductive number (R0) as a function of time \n",
    "# Calculate the beta(t) afterwards "
   ]
  },
  {
   "cell_type": "code",
   "execution_count": 4,
   "metadata": {
    "pycharm": {
     "is_executing": false,
     "name": "#%% \n"
    }
   },
   "outputs": [],
   "source": [
    "# Building model for the parameter estimation \n",
    "\n",
    "gamma = 1 / 9\n",
    "\n",
    "def R0_function(t, R0_start, R0_end, k, x0):\n",
    "\n",
    "    R0_val = ((R0_start - R0_end) / (1 + np.exp(-k * (-t + x0)))) + R0_end\n",
    "\n",
    "    return R0_val\n",
    "\n",
    "def sir_model(nrdays,pop_size, R0_start, R0_end, k, x0):\n",
    "     \n",
    "    \n",
    "    N = pop_size\n",
    "    \n",
    "    def beta(t):\n",
    "        time_beta = R0_function(t, R0_start, R0_end, k, x0) * gamma\n",
    "        \n",
    "        return time_beta\n",
    "    \n",
    "    S_0, I_0, R_0= N-1, 1.0, 0.0\n",
    "    y_0 = S_0, I_0, R_0\n",
    "    \n",
    "    t_days = np.linspace(0, nrdays-1, nrdays)\n",
    "    \n",
    "    # Solve the differential equations \n",
    "    \n",
    "    solution_sir = odeint(system_sir, y_0, t_days, args=(N, beta, gamma))\n",
    "    \n",
    "    S, I, R= solution_sir.T\n",
    "    \n",
    "    R0_values = [beta(i) / gamma for i in range(len(t_days))]\n",
    "    \n",
    "    return t_days, S, I, R, R0_values\n",
    "\n"
   ]
  },
  {
   "cell_type": "markdown",
   "metadata": {},
   "source": [
    "## Data and Fitting"
   ]
  },
  {
   "cell_type": "code",
   "execution_count": 5,
   "metadata": {
    "pycharm": {
     "is_executing": false,
     "name": "#%% \n"
    }
   },
   "outputs": [
    {
     "data": {
      "text/html": [
       "<div>\n",
       "<style scoped>\n",
       "    .dataframe tbody tr th:only-of-type {\n",
       "        vertical-align: middle;\n",
       "    }\n",
       "\n",
       "    .dataframe tbody tr th {\n",
       "        vertical-align: top;\n",
       "    }\n",
       "\n",
       "    .dataframe thead th {\n",
       "        text-align: right;\n",
       "    }\n",
       "</style>\n",
       "<table border=\"1\" class=\"dataframe\">\n",
       "  <thead>\n",
       "    <tr style=\"text-align: right;\">\n",
       "      <th></th>\n",
       "      <th>Aantal</th>\n",
       "    </tr>\n",
       "    <tr>\n",
       "      <th>Datum</th>\n",
       "      <th></th>\n",
       "    </tr>\n",
       "  </thead>\n",
       "  <tbody>\n",
       "    <tr>\n",
       "      <th>2020-02-27</th>\n",
       "      <td>1</td>\n",
       "    </tr>\n",
       "    <tr>\n",
       "      <th>2020-02-28</th>\n",
       "      <td>2</td>\n",
       "    </tr>\n",
       "    <tr>\n",
       "      <th>2020-02-29</th>\n",
       "      <td>7</td>\n",
       "    </tr>\n",
       "    <tr>\n",
       "      <th>2020-03-01</th>\n",
       "      <td>10</td>\n",
       "    </tr>\n",
       "    <tr>\n",
       "      <th>2020-03-02</th>\n",
       "      <td>18</td>\n",
       "    </tr>\n",
       "  </tbody>\n",
       "</table>\n",
       "</div>"
      ],
      "text/plain": [
       "            Aantal\n",
       "Datum             \n",
       "2020-02-27       1\n",
       "2020-02-28       2\n",
       "2020-02-29       7\n",
       "2020-03-01      10\n",
       "2020-03-02      18"
      ]
     },
     "execution_count": 5,
     "metadata": {},
     "output_type": "execute_result"
    }
   ],
   "source": [
    "# Importing all data \n",
    "covid19_NL_file = './data/daily_confirmed_cases.txt'\n",
    "covid19_NL_deaths = './data/corona_deaths.csv'\n",
    "\n",
    "df_covid =  pd.read_csv(covid19_NL_file, parse_dates=['Datum']).set_index(\"Datum\")\n",
    "df_covid.head()"
   ]
  },
  {
   "cell_type": "code",
   "execution_count": 6,
   "metadata": {
    "pycharm": {
     "is_executing": false,
     "name": "#%%\n"
    }
   },
   "outputs": [
    {
     "data": {
      "text/html": [
       "<div>\n",
       "<style scoped>\n",
       "    .dataframe tbody tr th:only-of-type {\n",
       "        vertical-align: middle;\n",
       "    }\n",
       "\n",
       "    .dataframe tbody tr th {\n",
       "        vertical-align: top;\n",
       "    }\n",
       "\n",
       "    .dataframe thead th {\n",
       "        text-align: right;\n",
       "    }\n",
       "</style>\n",
       "<table border=\"1\" class=\"dataframe\">\n",
       "  <thead>\n",
       "    <tr style=\"text-align: right;\">\n",
       "      <th></th>\n",
       "      <th>Aantal</th>\n",
       "    </tr>\n",
       "    <tr>\n",
       "      <th>Datum</th>\n",
       "      <th></th>\n",
       "    </tr>\n",
       "  </thead>\n",
       "  <tbody>\n",
       "    <tr>\n",
       "      <th>2020-02-27</th>\n",
       "      <td>0</td>\n",
       "    </tr>\n",
       "    <tr>\n",
       "      <th>2020-02-28</th>\n",
       "      <td>0</td>\n",
       "    </tr>\n",
       "    <tr>\n",
       "      <th>2020-02-29</th>\n",
       "      <td>0</td>\n",
       "    </tr>\n",
       "    <tr>\n",
       "      <th>2020-03-01</th>\n",
       "      <td>0</td>\n",
       "    </tr>\n",
       "    <tr>\n",
       "      <th>2020-03-02</th>\n",
       "      <td>0</td>\n",
       "    </tr>\n",
       "  </tbody>\n",
       "</table>\n",
       "</div>"
      ],
      "text/plain": [
       "            Aantal\n",
       "Datum             \n",
       "2020-02-27       0\n",
       "2020-02-28       0\n",
       "2020-02-29       0\n",
       "2020-03-01       0\n",
       "2020-03-02       0"
      ]
     },
     "execution_count": 6,
     "metadata": {},
     "output_type": "execute_result"
    }
   ],
   "source": [
    "df_covid_deaths = pd.read_csv(covid19_NL_deaths, parse_dates=['Datum']).set_index(\"Datum\")\n",
    "df_covid_deaths.head()\n"
   ]
  },
  {
   "cell_type": "code",
   "execution_count": 7,
   "metadata": {
    "pycharm": {
     "is_executing": false,
     "name": "#%%\n"
    }
   },
   "outputs": [
    {
     "data": {
      "text/plain": [
       "89"
      ]
     },
     "execution_count": 7,
     "metadata": {},
     "output_type": "execute_result"
    }
   ],
   "source": [
    "pop_size = 17000000\n",
    "\n",
    "data = df_covid[\"Aantal\"].values\n",
    "len(data)"
   ]
  },
  {
   "cell_type": "code",
   "execution_count": 8,
   "metadata": {
    "pycharm": {
     "is_executing": false,
     "name": "#%% \n"
    }
   },
   "outputs": [],
   "source": [
    "outbreak_shift = 7\n",
    "\n",
    "params_range = {\"R0_start\": (3.0, 2.0, 5.0), \"R0_end\": (0.9, 0.3, 3.5), \"k\": (2.5, 0.02, 5.0), \n",
    "                \"x0\": (90, 0, 120)}\n",
    "\n",
    "nrdays = outbreak_shift + len(data)\n",
    "\n",
    "if outbreak_shift >= 0:\n",
    "    y_data = np.concatenate((np.zeros(outbreak_shift), data))\n",
    "else:\n",
    "    y_data = y_data[-outbreak_shift:]\n",
    "\n",
    "x_data = np.linspace(0, nrdays - 1, nrdays, dtype=int)"
   ]
  },
  {
   "cell_type": "code",
   "execution_count": 9,
   "metadata": {
    "pycharm": {
     "is_executing": false,
     "name": "#%%\n"
    }
   },
   "outputs": [],
   "source": [
    "# Define a function for the fitting \n",
    "\n",
    "def sir_fit(x, R0_start, R0_end, k, x0):\n",
    "    \n",
    "    solution_solver = sir_model(nrdays, pop_size, R0_start, R0_end, k, x0)\n",
    "    \n",
    "    return solution_solver[2][x]"
   ]
  },
  {
   "cell_type": "code",
   "execution_count": 10,
   "metadata": {
    "pycharm": {
     "is_executing": false,
     "name": "#%%\n"
    }
   },
   "outputs": [],
   "source": [
    "model_fitting = lmfit.Model(sir_fit)\n",
    "for params_name, (init, mini, maxi) in params_range.items():\n",
    "    model_fitting.set_param_hint(str(params_name), value=init, min=mini, max=maxi, vary=True)\n",
    "\n",
    "params = model_fitting.make_params()\n",
    "fit_method = \"leastsq\" # Using least-squares for fitting "
   ]
  },
  {
   "cell_type": "code",
   "execution_count": 11,
   "metadata": {
    "pycharm": {
     "is_executing": false,
     "name": "#%%\n"
    }
   },
   "outputs": [
    {
     "data": {
      "text/plain": [
       "{'R0_start': 4.9999999999664615,\n",
       " 'R0_end': 1.019388123613425,\n",
       " 'k': 0.07665678204405955,\n",
       " 'x0': 21.673505833737085}"
      ]
     },
     "execution_count": 11,
     "metadata": {},
     "output_type": "execute_result"
    }
   ],
   "source": [
    "fit_results = model_fitting.fit(y_data, params, method=\"least_squares\", x=x_data)\n",
    "fit_results.best_values\n"
   ]
  },
  {
   "cell_type": "code",
   "execution_count": 12,
   "metadata": {
    "pycharm": {
     "is_executing": false,
     "name": "#%%\n"
    }
   },
   "outputs": [
    {
     "data": {
      "image/png": "[encoded data removed]",
      "text/plain": [
       "<Figure size 720x576 with 1 Axes>"
      ]
     },
     "metadata": {},
     "output_type": "display_data"
    }
   ],
   "source": [
    "plt.figure(figsize=(10,8))\n",
    "plt.scatter(x_data, y_data, s=20, color='k')\n",
    "plt.plot(x_data, fit_results.best_fit, color='b', lw=2)\n",
    "plt.ylim([0, 55000])\n",
    "plt.xlabel(\"Time (days)\" + \"\\n\\n\" + \"from February 27, 2020\", fontsize=14)\n",
    "plt.ylabel(\"Number of Infected\", fontsize=14)\n",
    "plt.legend([\"Best-Fit\", \"Actual Data\"])\n",
    "plt.title(\"Number of Cumulative confirmed cases (Infected) in the Netherlands\", fontsize=14, weight='bold');\n",
    "plt.savefig(\"best-fit_SIR-F.png\")\n",
    "# fit_results"
   ]
  },
  {
   "cell_type": "code",
   "execution_count": 13,
   "metadata": {
    "pycharm": {
     "is_executing": false,
     "name": "#%%\n"
    }
   },
   "outputs": [],
   "source": [
    "final_solution = sir_model(len(x_data), 17000000, 2.49, 1.03, 0.10, 63.7)\n",
    "S, I, R, R_values = final_solution[1], final_solution[2], final_solution[3], final_solution[4]"
   ]
  },
  {
   "cell_type": "code",
   "execution_count": 14,
   "metadata": {
    "pycharm": {
     "is_executing": false,
     "name": "#%% \n"
    }
   },
   "outputs": [
    {
     "data": {
      "text/html": [
       "<h2> Model</h2> Model(sir_fit) <h2>Fit Statistics</h2><table><tr><td>fitting method</td><td>least_squares</td><td></td></tr><tr><td># function evals</td><td>64</td><td></td></tr><tr><td># data points</td><td>96</td><td></td></tr><tr><td># variables</td><td>4</td><td></td></tr><tr><td>chi-square</td><td> 7410912.94</td><td></td></tr><tr><td>reduced chi-square</td><td> 80553.4015</td><td></td></tr><tr><td>Akaike info crit.</td><td> 1088.39514</td><td></td></tr><tr><td>Bayesian info crit.</td><td> 1098.65253</td><td></td></tr></table><h2>Variables</h2><table><tr><th> name </th><th> value </th><th> standard error </th><th> relative error </th><th> initial value </th><th> min </th><th> max </th><th> vary </th></tr><tr><td> R0_start </td><td>  5.00000000 </td><td>  0.14119593 </td><td> (2.82%) </td><td> 3.0 </td><td>  2.00000000 </td><td>  5.00000000 </td><td> True </td></tr><tr><td> R0_end </td><td>  1.01938812 </td><td>  0.00350101 </td><td> (0.34%) </td><td> 0.9 </td><td>  0.30000000 </td><td>  3.50000000 </td><td> True </td></tr><tr><td> k </td><td>  0.07665678 </td><td>  0.00183199 </td><td> (2.39%) </td><td> 2.5 </td><td>  0.02000000 </td><td>  5.00000000 </td><td> True </td></tr><tr><td> x0 </td><td>  21.6735058 </td><td>  1.10501806 </td><td> (5.10%) </td><td> 90 </td><td>  0.00000000 </td><td>  120.000000 </td><td> True </td></tr></table><h2>Correlations (unreported correlations are < 0.100)</h2><table><tr><td>R0_start</td><td>x0</td><td>-0.9999</td></tr><tr><td>R0_start</td><td>k</td><td>-0.9802</td></tr><tr><td>k</td><td>x0</td><td>0.9796</td></tr><tr><td>R0_end</td><td>k</td><td>0.9185</td></tr><tr><td>R0_start</td><td>R0_end</td><td>-0.8373</td></tr><tr><td>R0_end</td><td>x0</td><td>0.8332</td></tr></table>"
      ],
      "text/plain": [
       "<lmfit.model.ModelResult at 0x1ce4b527908>"
      ]
     },
     "execution_count": 14,
     "metadata": {},
     "output_type": "execute_result"
    }
   ],
   "source": [
    "fit_results"
   ]
  },
  {
   "cell_type": "code",
   "execution_count": 15,
   "metadata": {
    "pycharm": {
     "is_executing": false,
     "name": "#%%\n"
    }
   },
   "outputs": [
    {
     "data": {
      "image/png": "[encoded data removed]",
      "text/plain": [
       "<Figure size 720x576 with 1 Axes>"
      ]
     },
     "metadata": {},
     "output_type": "display_data"
    }
   ],
   "source": [
    "plt.figure(figsize=(10,8))\n",
    "plt.plot(x_data, R_values,'-',color='b', lw=2)\n",
    "plt.ylim([0.8, 2.7])\n",
    "plt.xlabel(\"Time (days)\" + \"\\n\\n\" + \"from February 27, 2020\", fontsize=14)\n",
    "plt.ylabel(\"Reproductive Number (R0)\", fontsize=14)\n",
    "plt.title(\"The course of Reproductive Number (R0) over time\", fontsize=14, weight='bold');\n"
   ]
  },
  {
   "cell_type": "code",
   "execution_count": 16,
   "metadata": {
    "pycharm": {
     "is_executing": false,
     "name": "#%%\n"
    }
   },
   "outputs": [],
   "source": [
    "beta_values = []\n",
    "\n",
    "for i in R_values:\n",
    "    bb = i * gamma\n",
    "    beta_values.append(bb)"
   ]
  },
  {
   "cell_type": "code",
   "execution_count": 18,
   "metadata": {
    "pycharm": {
     "is_executing": false,
     "name": "#%%\n"
    }
   },
   "outputs": [],
   "source": [
    "def plot_sirmodel(t, S, I, R):\n",
    "  f, ax = plt.subplots(1,1,figsize=(10,5))\n",
    "  ax.plot(t, S, 'b', alpha=0.7, linewidth=2, label='Susceptible')\n",
    "  ax.plot(t, I, 'r', alpha=0.7, linewidth=2, label='Infected')\n",
    "  ax.plot(t, R, 'g', alpha=0.7, linewidth=2, label='Recovered')\n",
    "    \n",
    "  ax.set_xlabel(\"Time (days)\" + \"\\n\\n\" + \"from February 27, 2020\", fontsize=15)\n",
    "  ax.set_ylabel(\"Number of people\", fontsize=15)\n",
    "  ax.set_title(\"SIR model\", fontsize=20, weight='bold')\n",
    "  \n",
    "  ax.yaxis.set_tick_params(length=0)\n",
    "  ax.xaxis.set_tick_params(length=0)\n",
    "  ax.grid(b=True, which='major', c='w', lw=2, ls='-')\n",
    "  ax.spines['top'].set_visible(False)\n",
    "  ax.spines['right'].set_visible(False)\n",
    "  ax.tick_params(axis='both', which='major', labelsize=14)\n",
    "  \n",
    "  legend = ax.legend()\n",
    "  legend.get_frame().set_alpha(1.0)\n",
    "#   plt.savefig(\"sir_simulation.png\")\n",
    "  \n",
    "  plt.show();"
   ]
  },
  {
   "cell_type": "code",
   "execution_count": 1,
   "metadata": {
    "pycharm": {
     "is_executing": false,
     "name": "#%%\n"
    }
   },
   "outputs": [],
   "source": [
    "t_sim, S_sim, I_sim, R_sim, R_values_sim = sir_model(96, 17000000, 5.00, 1.02, 0.08, 21.7)\n",
    "\n",
    "plot_sirmodel(t_sim, S_sim, I_sim, R_sim)"
   ]
  }
 ],
 "metadata": {
  "kernelspec": {
   "display_name": "Python 3",
   "language": "python",
   "name": "python3"
  },
  "language_info": {
   "codemirror_mode": {
    "name": "ipython",
    "version": 3
   },
   "file_extension": ".py",
   "mimetype": "text/x-python",
   "name": "python",
   "nbconvert_exporter": "python",
   "pygments_lexer": "ipython3",
   "version": "3.7.3"
  },
  "pycharm": {
   "stem_cell": {
    "cell_type": "raw",
    "metadata": {
     "collapsed": false
    },
    "source": []
   }
  }
 },
 "nbformat": 4,
 "nbformat_minor": 1
}

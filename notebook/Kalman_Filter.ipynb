{
 "cells": [
  {
   "cell_type": "markdown",
   "metadata": {},
   "source": [
    "# Kalman Filter - Modelling of COVID-19  (UNDER DEVELOPMENT)"
   ]
  },
  {
   "cell_type": "markdown",
   "metadata": {},
   "source": [
    "**Authors:** J.H. Cao \n",
    "<br>\n",
    "**Supervisors:** prof.dr.ir. N.A.W. van Riel, dr. D. Bosnacki\n",
    "<br>\n",
    "**Deparment:** Biomedical Engineering, Computational Biology Group at Eindhoven University of Technology"
   ]
  },
  {
   "cell_type": "markdown",
   "metadata": {},
   "source": [
    "This notebook contain the codes to model and simulate an epidemic. The **Kalman filter** is a mathematical model that can be used as a predictor or filter. This means that this Kalman Filter can also be applied on the SEIR models or the Logistic Growth Curve, as a filter. But in this section, Kalman Filter is used as a predictor, to forecast the spread of COVID-19 in the Netherlands. Since, the Kalman Filter is ideal for systems that are continuously changing, the spread of COVID-19, which is time-dependent can also be seen as a continuously changing system.\n",
    "<br>\n",
    "<br>\n",
    "This **Kalman Filter** will be applied on the *SIR/SEIR model*. \n"
   ]
  },
  {
   "cell_type": "markdown",
   "metadata": {},
   "source": [
    "## Imports"
   ]
  },
  {
   "cell_type": "markdown",
   "metadata": {},
   "source": [
    "### Packages"
   ]
  },
  {
   "cell_type": "markdown",
   "metadata": {},
   "source": [
    "This section is for the import of the important python packages needed to develop the Kalman Filter."
   ]
  },
  {
   "cell_type": "code",
   "execution_count": 1,
   "metadata": {},
   "outputs": [],
   "source": [
    "%matplotlib inline \n",
    "\n",
    "import pandas as pd\n",
    "import numpy as np\n",
    "import matplotlib.pyplot as plt\n",
    "\n",
    "from scipy.optimize import curve_fit # This package is necessary for the logistic growth curve fit \n",
    "from sklearn.metrics import mean_squared_error\n",
    "from sklearn.metrics import mean_absolute_error"
   ]
  },
  {
   "cell_type": "markdown",
   "metadata": {},
   "source": [
    "### Data - Number of recorded cases in the Netherlands"
   ]
  },
  {
   "cell_type": "markdown",
   "metadata": {},
   "source": [
    "This section is for the import of the data regarding the number of recorded cases of COVID-19 in the Netherlands"
   ]
  },
  {
   "cell_type": "code",
   "execution_count": 2,
   "metadata": {},
   "outputs": [
    {
     "data": {
      "text/html": [
       "<div>\n",
       "<style scoped>\n",
       "    .dataframe tbody tr th:only-of-type {\n",
       "        vertical-align: middle;\n",
       "    }\n",
       "\n",
       "    .dataframe tbody tr th {\n",
       "        vertical-align: top;\n",
       "    }\n",
       "\n",
       "    .dataframe thead th {\n",
       "        text-align: right;\n",
       "    }\n",
       "</style>\n",
       "<table border=\"1\" class=\"dataframe\">\n",
       "  <thead>\n",
       "    <tr style=\"text-align: right;\">\n",
       "      <th></th>\n",
       "      <th>Aantal</th>\n",
       "    </tr>\n",
       "    <tr>\n",
       "      <th>Datum</th>\n",
       "      <th></th>\n",
       "    </tr>\n",
       "  </thead>\n",
       "  <tbody>\n",
       "    <tr>\n",
       "      <th>2020-02-27</th>\n",
       "      <td>1</td>\n",
       "    </tr>\n",
       "    <tr>\n",
       "      <th>2020-02-28</th>\n",
       "      <td>2</td>\n",
       "    </tr>\n",
       "    <tr>\n",
       "      <th>2020-02-29</th>\n",
       "      <td>7</td>\n",
       "    </tr>\n",
       "    <tr>\n",
       "      <th>2020-03-01</th>\n",
       "      <td>10</td>\n",
       "    </tr>\n",
       "    <tr>\n",
       "      <th>2020-03-02</th>\n",
       "      <td>18</td>\n",
       "    </tr>\n",
       "  </tbody>\n",
       "</table>\n",
       "</div>"
      ],
      "text/plain": [
       "            Aantal\n",
       "Datum             \n",
       "2020-02-27       1\n",
       "2020-02-28       2\n",
       "2020-02-29       7\n",
       "2020-03-01      10\n",
       "2020-03-02      18"
      ]
     },
     "execution_count": 2,
     "metadata": {},
     "output_type": "execute_result"
    }
   ],
   "source": [
    "# The newest file containing the number of (+) cases in the Netherlands\n",
    "\n",
    "covid19_NL_file = './data/rivm_corona_in_nl_daily.txt'\n",
    "\n",
    "df_covid =  pd.read_csv(covid19_NL_file, parse_dates=['Datum']).set_index(\"Datum\")\n",
    "\n",
    "df_covid.head()"
   ]
  },
  {
   "cell_type": "markdown",
   "metadata": {},
   "source": [
    "## Logistic Growth (3 parameters, Verhulst) - Number of Recorded Cases"
   ]
  },
  {
   "cell_type": "code",
   "execution_count": 3,
   "metadata": {},
   "outputs": [
    {
     "data": {
      "text/html": [
       "<div>\n",
       "<style scoped>\n",
       "    .dataframe tbody tr th:only-of-type {\n",
       "        vertical-align: middle;\n",
       "    }\n",
       "\n",
       "    .dataframe tbody tr th {\n",
       "        vertical-align: top;\n",
       "    }\n",
       "\n",
       "    .dataframe thead th {\n",
       "        text-align: right;\n",
       "    }\n",
       "</style>\n",
       "<table border=\"1\" class=\"dataframe\">\n",
       "  <thead>\n",
       "    <tr style=\"text-align: right;\">\n",
       "      <th></th>\n",
       "      <th>Timestep</th>\n",
       "      <th>Aantal</th>\n",
       "    </tr>\n",
       "    <tr>\n",
       "      <th>Datum</th>\n",
       "      <th></th>\n",
       "      <th></th>\n",
       "    </tr>\n",
       "  </thead>\n",
       "  <tbody>\n",
       "    <tr>\n",
       "      <th>2020-02-27</th>\n",
       "      <td>0</td>\n",
       "      <td>1</td>\n",
       "    </tr>\n",
       "    <tr>\n",
       "      <th>2020-02-28</th>\n",
       "      <td>1</td>\n",
       "      <td>2</td>\n",
       "    </tr>\n",
       "    <tr>\n",
       "      <th>2020-02-29</th>\n",
       "      <td>2</td>\n",
       "      <td>7</td>\n",
       "    </tr>\n",
       "    <tr>\n",
       "      <th>2020-03-01</th>\n",
       "      <td>3</td>\n",
       "      <td>10</td>\n",
       "    </tr>\n",
       "    <tr>\n",
       "      <th>2020-03-02</th>\n",
       "      <td>4</td>\n",
       "      <td>18</td>\n",
       "    </tr>\n",
       "  </tbody>\n",
       "</table>\n",
       "</div>"
      ],
      "text/plain": [
       "            Timestep  Aantal\n",
       "Datum                       \n",
       "2020-02-27         0       1\n",
       "2020-02-28         1       2\n",
       "2020-02-29         2       7\n",
       "2020-03-01         3      10\n",
       "2020-03-02         4      18"
      ]
     },
     "execution_count": 3,
     "metadata": {},
     "output_type": "execute_result"
    }
   ],
   "source": [
    "# Adding a column of timestep for the curve_fit to the dataframe\n",
    "\n",
    "df_covid['Timestep'] = [timestep for timestep in range(0, len(df_covid))]\n",
    "\n",
    "\n",
    "# Re-arrange the columns \n",
    "\n",
    "cols = df_covid.columns.to_list()\n",
    "cols = cols[1:] + cols[:-1]\n",
    "\n",
    "df_covid = df_covid[cols]\n",
    "df_covid.head()"
   ]
  },
  {
   "cell_type": "code",
   "execution_count": 4,
   "metadata": {},
   "outputs": [
    {
     "data": {
      "text/html": [
       "<div>\n",
       "<style scoped>\n",
       "    .dataframe tbody tr th:only-of-type {\n",
       "        vertical-align: middle;\n",
       "    }\n",
       "\n",
       "    .dataframe tbody tr th {\n",
       "        vertical-align: top;\n",
       "    }\n",
       "\n",
       "    .dataframe thead th {\n",
       "        text-align: right;\n",
       "    }\n",
       "</style>\n",
       "<table border=\"1\" class=\"dataframe\">\n",
       "  <thead>\n",
       "    <tr style=\"text-align: right;\">\n",
       "      <th></th>\n",
       "      <th>Timestep</th>\n",
       "      <th>Total Cases</th>\n",
       "    </tr>\n",
       "    <tr>\n",
       "      <th>Datum</th>\n",
       "      <th></th>\n",
       "      <th></th>\n",
       "    </tr>\n",
       "  </thead>\n",
       "  <tbody>\n",
       "    <tr>\n",
       "      <th>2020-02-27</th>\n",
       "      <td>0</td>\n",
       "      <td>1</td>\n",
       "    </tr>\n",
       "    <tr>\n",
       "      <th>2020-02-28</th>\n",
       "      <td>1</td>\n",
       "      <td>2</td>\n",
       "    </tr>\n",
       "    <tr>\n",
       "      <th>2020-02-29</th>\n",
       "      <td>2</td>\n",
       "      <td>7</td>\n",
       "    </tr>\n",
       "    <tr>\n",
       "      <th>2020-03-01</th>\n",
       "      <td>3</td>\n",
       "      <td>10</td>\n",
       "    </tr>\n",
       "    <tr>\n",
       "      <th>2020-03-02</th>\n",
       "      <td>4</td>\n",
       "      <td>18</td>\n",
       "    </tr>\n",
       "  </tbody>\n",
       "</table>\n",
       "</div>"
      ],
      "text/plain": [
       "            Timestep  Total Cases\n",
       "Datum                            \n",
       "2020-02-27         0            1\n",
       "2020-02-28         1            2\n",
       "2020-02-29         2            7\n",
       "2020-03-01         3           10\n",
       "2020-03-02         4           18"
      ]
     },
     "execution_count": 4,
     "metadata": {},
     "output_type": "execute_result"
    }
   ],
   "source": [
    "# Changing the column name from dutch to english\n",
    "\n",
    "df_covid = df_covid.rename(columns={\"Aantal\":\"Total Cases\"})\n",
    "df_covid.head()"
   ]
  },
  {
   "cell_type": "code",
   "execution_count": 5,
   "metadata": {},
   "outputs": [
    {
     "name": "stderr",
     "output_type": "stream",
     "text": [
      "C:\\Users\\jieha\\Anaconda3\\envs\\bepsbmd\\lib\\site-packages\\pandas\\core\\indexing.py:670: SettingWithCopyWarning: \n",
      "A value is trying to be set on a copy of a slice from a DataFrame\n",
      "\n",
      "See the caveats in the documentation: https://pandas.pydata.org/pandas-docs/stable/user_guide/indexing.html#returning-a-view-versus-a-copy\n",
      "  self._setitem_with_indexer(indexer, value)\n"
     ]
    },
    {
     "data": {
      "text/html": [
       "<div>\n",
       "<style scoped>\n",
       "    .dataframe tbody tr th:only-of-type {\n",
       "        vertical-align: middle;\n",
       "    }\n",
       "\n",
       "    .dataframe tbody tr th {\n",
       "        vertical-align: top;\n",
       "    }\n",
       "\n",
       "    .dataframe thead th {\n",
       "        text-align: right;\n",
       "    }\n",
       "</style>\n",
       "<table border=\"1\" class=\"dataframe\">\n",
       "  <thead>\n",
       "    <tr style=\"text-align: right;\">\n",
       "      <th></th>\n",
       "      <th>Timestep</th>\n",
       "      <th>Total Cases</th>\n",
       "      <th>New Cases</th>\n",
       "    </tr>\n",
       "    <tr>\n",
       "      <th>Datum</th>\n",
       "      <th></th>\n",
       "      <th></th>\n",
       "      <th></th>\n",
       "    </tr>\n",
       "  </thead>\n",
       "  <tbody>\n",
       "    <tr>\n",
       "      <th>2020-02-27</th>\n",
       "      <td>0</td>\n",
       "      <td>1</td>\n",
       "      <td>0.0</td>\n",
       "    </tr>\n",
       "    <tr>\n",
       "      <th>2020-02-28</th>\n",
       "      <td>1</td>\n",
       "      <td>2</td>\n",
       "      <td>1.0</td>\n",
       "    </tr>\n",
       "    <tr>\n",
       "      <th>2020-02-29</th>\n",
       "      <td>2</td>\n",
       "      <td>7</td>\n",
       "      <td>5.0</td>\n",
       "    </tr>\n",
       "    <tr>\n",
       "      <th>2020-03-01</th>\n",
       "      <td>3</td>\n",
       "      <td>10</td>\n",
       "      <td>3.0</td>\n",
       "    </tr>\n",
       "    <tr>\n",
       "      <th>2020-03-02</th>\n",
       "      <td>4</td>\n",
       "      <td>18</td>\n",
       "      <td>8.0</td>\n",
       "    </tr>\n",
       "  </tbody>\n",
       "</table>\n",
       "</div>"
      ],
      "text/plain": [
       "            Timestep  Total Cases  New Cases\n",
       "Datum                                       \n",
       "2020-02-27         0            1        0.0\n",
       "2020-02-28         1            2        1.0\n",
       "2020-02-29         2            7        5.0\n",
       "2020-03-01         3           10        3.0\n",
       "2020-03-02         4           18        8.0"
      ]
     },
     "execution_count": 5,
     "metadata": {},
     "output_type": "execute_result"
    }
   ],
   "source": [
    "df_covid['New Cases'] = df_covid[['Total Cases']].diff()\n",
    "df_covid['New Cases'].iloc[0] = 0\n",
    "df_covid.head()"
   ]
  },
  {
   "cell_type": "code",
   "execution_count": 6,
   "metadata": {},
   "outputs": [],
   "source": [
    "# Defining the logistic growth function with 3 parameters (Verhulst) for the population growth\n",
    "\n",
    "# a = alpha (number of days at which the expected numer of cases is half the maximum)\n",
    "# b = Beta (growth paramter / factor)\n",
    "# c = M (expected maximum)\n",
    "# t = time in days \n",
    "\n",
    "def logistic_growth(t, a, b, c):\n",
    "    E = c / (1 + np.exp(-b * (t - a)))\n",
    "    return E\n",
    "    \n",
    "# Obtaining the x and y data\n",
    "\n",
    "x = np.array(df_covid['Timestep'])\n",
    "y = np.array(df_covid['Total Cases'])\n",
    "\n",
    "\n",
    "# Random initiazation of parameters and upper bound limit \n",
    "\n",
    "p0 = np.random.exponential(size = 3)\n",
    "\n",
    "bounds = (0, [10000, 3, 17000000]) # upper bounds for the given parameters (alpha, beta, M)"
   ]
  },
  {
   "cell_type": "code",
   "execution_count": 7,
   "metadata": {},
   "outputs": [],
   "source": [
    "# Fitting the logistic growth fucntion and defining the prediction function\n",
    "\n",
    "(alpha, beta, M), logistic_cov = curve_fit(logistic_growth, x, y, bounds=bounds, p0=p0)\n",
    "\n",
    "def logistic_pred(t):\n",
    "    E = M / (1 + np.exp(-beta * (t - alpha)))\n",
    "    return E"
   ]
  },
  {
   "cell_type": "markdown",
   "metadata": {},
   "source": [
    "#### The estimated parameters and statistics:"
   ]
  },
  {
   "cell_type": "code",
   "execution_count": 8,
   "metadata": {},
   "outputs": [],
   "source": [
    "def r_squared_logistic():\n",
    "    residuals = y - logistic_pred(x)\n",
    "    ss_res = np.sum(residuals**2)\n",
    "\n",
    "    ss_tot = np.sum((y - np.mean(y))**2)\n",
    "\n",
    "    R_squared = 1 - (ss_res / ss_tot)\n",
    "    \n",
    "    return R_squared"
   ]
  },
  {
   "cell_type": "code",
   "execution_count": 9,
   "metadata": {},
   "outputs": [],
   "source": [
    "def prt_results_logistic():\n",
    "    logistic_line = '%5s  %16s  %15s' % (\"alpha = \", \"beta = \", \"M = \")\n",
    "    logistic_params = '%5s  %14s  %14s' % (alpha, beta, M)\n",
    "\n",
    "    print(\"**The estimated logistic growth parameters are:**\")\n",
    "    print()\n",
    "    print(logistic_line)\n",
    "    print(logistic_params)\n",
    "\n",
    "    print()\n",
    "    \n",
    "    r2line = \"%5s\" % (\"R^2 = \")\n",
    "    r2_val = \"%12s\" % (r_squared_logistic())\n",
    "    \n",
    "    print(\"**The R^2 value for this logistic growth model is:**\")\n",
    "    print()\n",
    "    print(r2line)\n",
    "    print(r2_val)\n",
    "    print()"
   ]
  },
  {
   "cell_type": "markdown",
   "metadata": {},
   "source": [
    "#### Plotting the results:"
   ]
  },
  {
   "cell_type": "code",
   "execution_count": 10,
   "metadata": {},
   "outputs": [],
   "source": [
    "max_cases = []\n",
    "\n",
    "for i in x:\n",
    "    max_cases.append(M)\n",
    "predicted_max = np.array(max_cases)"
   ]
  },
  {
   "cell_type": "code",
   "execution_count": 11,
   "metadata": {},
   "outputs": [
    {
     "name": "stdout",
     "output_type": "stream",
     "text": [
      "**The estimated logistic growth parameters are:**\n",
      "\n",
      "alpha =            beta =              M = \n",
      "41.285711825576946  0.11853232403623144  42246.02159470044\n",
      "\n",
      "**The R^2 value for this logistic growth model is:**\n",
      "\n",
      "R^2 = \n",
      "0.9979879707917271\n",
      "\n"
     ]
    },
    {
     "data": {
      "image/png": "[encoded data removed]",
      "text/plain": [
       "<Figure size 720x576 with 1 Axes>"
      ]
     },
     "metadata": {
      "needs_background": "light"
     },
     "output_type": "display_data"
    }
   ],
   "source": [
    "plt.figure(figsize=(10,8))\n",
    "\n",
    "plt.scatter(x, y, s=10, marker='o', c='k')\n",
    "plt.plot(x, logistic_pred(x), '--', lw=2, c='blue')\n",
    "plt.plot(x, predicted_max, '-x', c='r')\n",
    "plt.legend(['Logistic Fit', 'Predicted Maximum', 'Actual Data' ])\n",
    "plt.ylim([0, 50000])\n",
    "\n",
    "plt.title(\"Netherlands (Cumulative) COVID-19 cases [06/05/2020]\", Fontsize = 14, weight='bold')\n",
    "plt.xlabel(\"Time (days)\" +\"\\n\\n\"+\"from February 27, 2020\", Fontsize = 14)\n",
    "plt.ylabel(\"Number of Cases\", Fontsize = 14);\n",
    "\n",
    "\n",
    "\n",
    "prt_results_logistic() # Uncomment for statistics"
   ]
  },
  {
   "cell_type": "markdown",
   "metadata": {},
   "source": [
    "<br>"
   ]
  },
  {
   "cell_type": "markdown",
   "metadata": {},
   "source": [
    "## Kalman Filter - Applied on the daily confirmed cases"
   ]
  },
  {
   "cell_type": "markdown",
   "metadata": {},
   "source": [
    "#### Definitions of the Variables :"
   ]
  },
  {
   "cell_type": "markdown",
   "metadata": {},
   "source": [
    "1. **X** = *The best estimate of the state (the mean state estimate)* \n",
    "2. **P** = *the state covariance matrix*\n",
    "3. **F** = _The transition matrix (into the \"F\"uture), this is aka the **A** matrix_\n",
    "4. **Q** = *Uncertainty from the environment (process noise covariance)*\n",
    "5. **B** = *Control matrix* \n",
    "6. **U** = *Control vector* \n",
    "7. **Y** = *Measurements vector*\n",
    "8. **H** = *Measurements matrix such as sensor*\n",
    "9. **R** = _Covariance of uncertainty / noise of the measurement of matrix **H**_\n",
    "10. **K** = *Kalman Gain*\n",
    "11. **IM** = _Mean predicted distribution of **Y**_\n",
    "12. **IS** = _The covariance of **Y**_"
   ]
  },
  {
   "cell_type": "markdown",
   "metadata": {},
   "source": [
    "#### Prediction Algorithm "
   ]
  },
  {
   "cell_type": "code",
   "execution_count": 12,
   "metadata": {},
   "outputs": [],
   "source": [
    "# This function is for the Kalman Prediction \n",
    "def kf_predict(X, P, F, Q, B, U):\n",
    "    \n",
    "    X = np.dot(F, X) + np.dot(B, U)  \n",
    "    P = np.dot(F, np.dot(P, F.T)) + Q\n",
    "    \n",
    "    return (X, P)"
   ]
  },
  {
   "cell_type": "markdown",
   "metadata": {},
   "source": [
    "#### Update "
   ]
  },
  {
   "cell_type": "code",
   "execution_count": 13,
   "metadata": {},
   "outputs": [],
   "source": [
    "def kf_update(X, P, Y, H, R):\n",
    "    \n",
    "    IM = np.dot(H, X)\n",
    "    IS = R + np.dot(H, np.dot(P, H.T))\n",
    "    \n",
    "    K = np.dot(P, np.dot(H.T, np.linalg.inv(IS)))\n",
    "    X = X + np.dot(K, (Y-IM))\n",
    "    P = P - np.dot(K, np.dot(H, P))\n",
    "    \n",
    "    \n",
    "    return (X, P, K, IM, IS)"
   ]
  },
  {
   "cell_type": "markdown",
   "metadata": {},
   "source": [
    "#### Prediction and Filtering"
   ]
  },
  {
   "cell_type": "code",
   "execution_count": 14,
   "metadata": {},
   "outputs": [],
   "source": [
    "#time step in days \n",
    "dt = 1\n",
    "\n",
    "\n",
    "# Initialization of state matrices\n",
    "X = np.array([[1], [0]])\n",
    "P = np.diag((1e6, 1e6))  #  high variance\n",
    "F = np.array([[1, dt], [0, 1]])\n",
    "Q = np.eye(X.shape[0])\n",
    "B = np.eye(X.shape[0])\n",
    "U = np.zeros((X.shape[0],1)) "
   ]
  },
  {
   "cell_type": "code",
   "execution_count": 15,
   "metadata": {},
   "outputs": [],
   "source": [
    "# Measurement matrices\n",
    "Y = np.array([[y[1]], [0]])\n",
    "H = np.array([[1, 0], [0, 1]])\n",
    "R = np.diag((0.01, 0.01))"
   ]
  },
  {
   "cell_type": "code",
   "execution_count": 16,
   "metadata": {},
   "outputs": [],
   "source": [
    "# Applying the Kalman Filter\n",
    "pred_kf = [1]\n",
    "N_iter = len(y)\n",
    "for i in np.arange(1, N_iter):\n",
    "    \n",
    "    (X, P) = kf_predict(X, P, F, Q, B, U)\n",
    "    (X, P, K, IM, IS) = kf_update(X, P, Y, H, R)\n",
    "    Y = np.array([[y[i]],[x[i]]]) \n",
    "    pred_kf.append(X[0,0])\n",
    "    "
   ]
  },
  {
   "cell_type": "markdown",
   "metadata": {},
   "source": [
    "#### Plot results for comparison"
   ]
  },
  {
   "cell_type": "code",
   "execution_count": 17,
   "metadata": {
    "scrolled": false
   },
   "outputs": [
    {
     "data": {
      "image/png": "[encoded data removed]",
      "text/plain": [
       "<Figure size 720x576 with 1 Axes>"
      ]
     },
     "metadata": {
      "needs_background": "light"
     },
     "output_type": "display_data"
    }
   ],
   "source": [
    "plt.figure(figsize=(10,8))\n",
    "\n",
    "plt.plot(x, y,\"-x\",lw=2, c='blue')\n",
    "plt.plot(x, pred_kf, '-o', lw=2, c='darkorange')\n",
    "\n",
    "\n",
    "plt.legend(['Actual Data','Kalman Prediction'])\n",
    "plt.ylim([0, 50000])\n",
    "\n",
    "plt.title(\"Netherlands (Cumulative) COVID-19 cases [04/05/2020]\", Fontsize = 14, weight='bold')\n",
    "plt.xlabel(\"Time (days)\", Fontsize = 14)\n",
    "plt.ylabel(\"Number of Cases\", Fontsize = 14);\n"
   ]
  }
 ],
 "metadata": {
  "kernelspec": {
   "display_name": "Python 3",
   "language": "python",
   "name": "python3"
  },
  "language_info": {
   "codemirror_mode": {
    "name": "ipython",
    "version": 3
   },
   "file_extension": ".py",
   "mimetype": "text/x-python",
   "name": "python",
   "nbconvert_exporter": "python",
   "pygments_lexer": "ipython3",
   "version": "3.7.3"
  }
 },
 "nbformat": 4,
 "nbformat_minor": 4
}

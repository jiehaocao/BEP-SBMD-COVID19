{
 "cells": [
  {
   "cell_type": "markdown",
   "metadata": {},
   "source": [
    "# Kalman Filter - Modelling of COVID-19  (UNDER DEVELOPMENT)"
   ]
  },
  {
   "cell_type": "markdown",
   "metadata": {},
   "source": [
    "**Authors:** J.H. Cao \n",
    "<br>\n",
    "**Supervisors:** prof.dr.ir. N.A.W. van Riel, dr. D. Bosnacki\n",
    "<br>\n",
    "**Deparment:** Biomedical Engineering, Computational Biology Group at Eindhoven University of Technology"
   ]
  },
  {
   "cell_type": "markdown",
   "metadata": {},
   "source": [
    "This notebook contain the codes to model and simulate an epidemic. The **Kalman filter** is a mathematical model that can be used as a predictor or filter. This means that this Kalman Filter can also be applied on the SEIR models or the Logistic Growth Curve, as a filter. But in this section, Kalman Filter is used as a predictor, to forecast the spread of COVID-19 in the Netherlands. Since, the Kalman Filter is ideal for systems that are continuously changing, the spread of COVID-19, which is time-dependent can also be seen as a continuously changing system.\n",
    "<br>\n",
    "<br>\n",
    "This Kalman Filter for estimation will be applied on the:\n",
    "1. A self-defined **exponential growth system with randomization on the growth parameter** (based on the available data - *daily confirmed cases*)\n",
    "2. The **SIR/SEIR** model, to take uncertainties into account and use this as a filter on the dynamic systems of SIR/SEIR models.\n",
    "\n",
    "The Kalman Filter's application mentioned in **(2)** might not be used for estimation or as a predictor, but more or less as a filter for the dynamic system by taking uncertainties of that system into account. Another possibility is to use the Kalman Filter to estimate and update the parameters found in these differential equations. "
   ]
  },
  {
   "cell_type": "markdown",
   "metadata": {},
   "source": [
    "## Imports"
   ]
  },
  {
   "cell_type": "markdown",
   "metadata": {},
   "source": [
    "### Packages"
   ]
  },
  {
   "cell_type": "markdown",
   "metadata": {},
   "source": [
    "This section is for the import of the important python packages needed to develop the Kalman Filter."
   ]
  },
  {
   "cell_type": "code",
   "execution_count": 1,
   "metadata": {},
   "outputs": [],
   "source": [
    "%matplotlib inline \n",
    "\n",
    "import pandas as pd\n",
    "import numpy as np\n",
    "import matplotlib.pyplot as plt\n",
    "\n",
    "from scipy.optimize import curve_fit # This package is necessary for the logistic growth curve fit \n",
    "from sklearn.metrics import mean_squared_error\n",
    "from sklearn.metrics import mean_absolute_error"
   ]
  },
  {
   "cell_type": "markdown",
   "metadata": {},
   "source": [
    "### Data - Number of recorded cases in the Netherlands"
   ]
  },
  {
   "cell_type": "markdown",
   "metadata": {},
   "source": [
    "This section is for the import of the data regarding the number of recorded cases of COVID-19 in the Netherlands."
   ]
  },
  {
   "cell_type": "code",
   "execution_count": 2,
   "metadata": {},
   "outputs": [],
   "source": [
    "# The newest file containing the number of (+) cases in the Netherlands\n",
    "\n",
    "covid19_NL_file = './data/rivm_corona_in_nl_daily.txt'\n",
    "\n",
    "df_covid =  pd.read_csv(covid19_NL_file, parse_dates=['Datum']).set_index(\"Datum\")"
   ]
  },
  {
   "cell_type": "code",
   "execution_count": 3,
   "metadata": {},
   "outputs": [],
   "source": [
    "# Adding a column of timestep for the curve_fit to the dataframe\n",
    "\n",
    "df_covid['Timestep'] = [timestep for timestep in range(0, len(df_covid))]\n",
    "\n",
    "\n",
    "# Re-arrange the columns \n",
    "\n",
    "cols = df_covid.columns.to_list()\n",
    "cols = cols[1:] + cols[:-1]\n",
    "\n",
    "df_covid = df_covid[cols]"
   ]
  },
  {
   "cell_type": "code",
   "execution_count": 4,
   "metadata": {},
   "outputs": [],
   "source": [
    "# Changing the column name from dutch to english\n",
    "\n",
    "df_covid = df_covid.rename(columns={\"Aantal\":\"Total Cases\"})"
   ]
  },
  {
   "cell_type": "code",
   "execution_count": 138,
   "metadata": {},
   "outputs": [],
   "source": [
    "# Adding an extra column called \"New Cases\", which shows the new confirmed cases on that specific day\n",
    "df_covid['New Cases'] = df_covid[['Total Cases']].diff()\n",
    "df_covid['New Cases'].iloc[0] = 0"
   ]
  },
  {
   "cell_type": "markdown",
   "metadata": {},
   "source": [
    "#### Final DataFrame"
   ]
  },
  {
   "cell_type": "code",
   "execution_count": 6,
   "metadata": {},
   "outputs": [
    {
     "data": {
      "text/html": [
       "<div>\n",
       "<style scoped>\n",
       "    .dataframe tbody tr th:only-of-type {\n",
       "        vertical-align: middle;\n",
       "    }\n",
       "\n",
       "    .dataframe tbody tr th {\n",
       "        vertical-align: top;\n",
       "    }\n",
       "\n",
       "    .dataframe thead th {\n",
       "        text-align: right;\n",
       "    }\n",
       "</style>\n",
       "<table border=\"1\" class=\"dataframe\">\n",
       "  <thead>\n",
       "    <tr style=\"text-align: right;\">\n",
       "      <th></th>\n",
       "      <th>Timestep</th>\n",
       "      <th>Total Cases</th>\n",
       "      <th>New Cases</th>\n",
       "    </tr>\n",
       "    <tr>\n",
       "      <th>Datum</th>\n",
       "      <th></th>\n",
       "      <th></th>\n",
       "      <th></th>\n",
       "    </tr>\n",
       "  </thead>\n",
       "  <tbody>\n",
       "    <tr>\n",
       "      <th>2020-02-27</th>\n",
       "      <td>0</td>\n",
       "      <td>1</td>\n",
       "      <td>0.0</td>\n",
       "    </tr>\n",
       "    <tr>\n",
       "      <th>2020-02-28</th>\n",
       "      <td>1</td>\n",
       "      <td>2</td>\n",
       "      <td>1.0</td>\n",
       "    </tr>\n",
       "    <tr>\n",
       "      <th>2020-02-29</th>\n",
       "      <td>2</td>\n",
       "      <td>7</td>\n",
       "      <td>5.0</td>\n",
       "    </tr>\n",
       "    <tr>\n",
       "      <th>2020-03-01</th>\n",
       "      <td>3</td>\n",
       "      <td>10</td>\n",
       "      <td>3.0</td>\n",
       "    </tr>\n",
       "    <tr>\n",
       "      <th>2020-03-02</th>\n",
       "      <td>4</td>\n",
       "      <td>18</td>\n",
       "      <td>8.0</td>\n",
       "    </tr>\n",
       "  </tbody>\n",
       "</table>\n",
       "</div>"
      ],
      "text/plain": [
       "            Timestep  Total Cases  New Cases\n",
       "Datum                                       \n",
       "2020-02-27         0            1        0.0\n",
       "2020-02-28         1            2        1.0\n",
       "2020-02-29         2            7        5.0\n",
       "2020-03-01         3           10        3.0\n",
       "2020-03-02         4           18        8.0"
      ]
     },
     "execution_count": 6,
     "metadata": {},
     "output_type": "execute_result"
    }
   ],
   "source": [
    "df_covid.head()"
   ]
  },
  {
   "cell_type": "markdown",
   "metadata": {},
   "source": [
    "#### Loading the logistic predictions"
   ]
  },
  {
   "cell_type": "code",
   "execution_count": 125,
   "metadata": {},
   "outputs": [],
   "source": [
    "df_logpred = pd.read_csv('./data/log_growth_predictions-longterm.csv',parse_dates=['Datum']).set_index(\"Datum\")"
   ]
  },
  {
   "cell_type": "markdown",
   "metadata": {},
   "source": [
    "#### Data for the training of the model / KF"
   ]
  },
  {
   "cell_type": "code",
   "execution_count": 7,
   "metadata": {},
   "outputs": [],
   "source": [
    "t = np.array(df_covid['Timestep'])  # timestep for predictions\n",
    "y_true = np.array(df_covid['Total Cases'])  # the actual confirmed cases "
   ]
  },
  {
   "cell_type": "markdown",
   "metadata": {},
   "source": [
    "<br>"
   ]
  },
  {
   "cell_type": "markdown",
   "metadata": {},
   "source": [
    "## (1) Kalman Filter for estimation -  Self-defined exponential growth function"
   ]
  },
  {
   "cell_type": "markdown",
   "metadata": {},
   "source": [
    "The growth factor that is used for this function, is calculated by **dividing** the `new confirmed cases on day x` by the <br> `new confirmed cases on day x-1`. Afterwards, random uncertaintity is applied on this growth factor. \n",
    "<br>\n",
    "<br>\n",
    "Thus, once again, the **new_total_cases**`(day x)` = **total_cases**`(day x-1)` x `estimated growth factor (with randomization)`"
   ]
  },
  {
   "cell_type": "markdown",
   "metadata": {},
   "source": [
    "### Kalman Filter prediction and update function"
   ]
  },
  {
   "cell_type": "markdown",
   "metadata": {},
   "source": [
    "Since the process and measurement noise are **unknown**, it is assumed that these noise are **equal to zero**. \n",
    "\n",
    "In the function for the Kalman Filter, it can be seen that there are quite some variables. The definition for these variables are:\n",
    "\n",
    "1. **y_pred** = the predicted measurement (total confirmed cases) at the given time (time in days)\n",
    "2. **x_pred** = the best estimate of the state (the total confirmed cases) at given time (time in days)\n",
    "<br><br>\n",
    "3. **P**      = the state covariance matrix\n",
    "4. **A** = state transition matrix \n",
    "5. **H** = observation matrix (relating **x_pred** and **y_true**)\n",
    "6. **Q** = process covariance noise \n",
    "7. **R** = measurement noise covariance\n",
    "8. **S** = innovation covariance matrix \n",
    "9. **K** = Kalman Gain "
   ]
  },
  {
   "cell_type": "markdown",
   "metadata": {},
   "source": [
    "#### Kalman Filter:"
   ]
  },
  {
   "cell_type": "code",
   "execution_count": 91,
   "metadata": {},
   "outputs": [],
   "source": [
    "def kf_filter(x_pred, y_pred, P, A, H, Q, R):\n",
    "    \n",
    "    \n",
    "    for k in range(0, len(x_pred)-1):\n",
    "        \n",
    "        # Prediction step\n",
    "        x_pred[k+1] = A*x_pred[k]\n",
    "        P = A*P*A.T + Q\n",
    "        \n",
    "        # Calculating the Kalman Gain \n",
    "        S = H*P*H.T + R\n",
    "        K = P * H.T * np.linalg.inv(S)\n",
    "        \n",
    "        # Updating the \"a priori state\" with measurements to obtain the \"a posteriori state\"\n",
    "        x_pred[k+1] = x_pred[k+1] + K*(y_pred[k+1] - H*x_pred[k+1])\n",
    "        P = (1-K*H)*P\n",
    "    \n",
    "    return np.round(x_pred)  # rounding off the whole numbers \n"
   ]
  },
  {
   "cell_type": "markdown",
   "metadata": {},
   "source": [
    "### Prediction till 21/05/2020 (dd/mm/yyy)"
   ]
  },
  {
   "cell_type": "code",
   "execution_count": 92,
   "metadata": {},
   "outputs": [],
   "source": [
    "# Making extra array space 10-day ahead prediction \n",
    "t_extra = np.arange(10)\n",
    "x_est = np.zeros(len(t_extra))\n",
    "\n",
    "\n",
    "# Taking the latest data available into account \n",
    "\n",
    "x_est[0] = y_true[-1]\n",
    "x_est[1] = x_est[0] + ((y_true[-1] - y_true[-2]) * (np.random.randint(115, 122)/100)) # random growth parameter between 1.15 and 1.22"
   ]
  },
  {
   "cell_type": "code",
   "execution_count": 93,
   "metadata": {},
   "outputs": [],
   "source": [
    "# Making the predictions for the upcoming 10 days and random growth parameter each time \n",
    "\n",
    "for i in range(2, len(x_est)):\n",
    "    x_est[i] = x_est[i-1] + ((x_est[i-1] - x_est[i-2]) * (np.random.randint(115, 122)/100)) \n",
    "    \n",
    "\n",
    "# Assign it to new array y_pred\n",
    "\n",
    "y_pred = np.append(y_true, x_est[1:])"
   ]
  },
  {
   "cell_type": "markdown",
   "metadata": {},
   "source": [
    "#### Kalman Filter Estimation "
   ]
  },
  {
   "cell_type": "code",
   "execution_count": 94,
   "metadata": {},
   "outputs": [],
   "source": [
    "# Making empty array for Kalman \n",
    "x_pred = np.zeros(len(y_pred))\n",
    "t_new = np.arange(len(x_pred))"
   ]
  },
  {
   "cell_type": "code",
   "execution_count": 95,
   "metadata": {},
   "outputs": [],
   "source": [
    "# Initial values of for the Kalman Filter \n",
    "\n",
    "x_pred[0] = 1\n",
    "P = np.array([[0.1]])\n",
    "A = np.array([[1.006]]) # assuming a constant state transition \n",
    "H = np.array([[1]])     # no drastic effect of the observation matrix  \n",
    "Q = np.array([[0.1]])   # relative large process noise \n",
    "R = np.array([[0.01]])  # some measurement noise "
   ]
  },
  {
   "cell_type": "code",
   "execution_count": 96,
   "metadata": {},
   "outputs": [],
   "source": [
    "x_pred = kf_filter(x_pred, y_pred, P, A, H, Q, R)"
   ]
  },
  {
   "cell_type": "markdown",
   "metadata": {},
   "source": [
    "#### Assigning the predictions to DataFrame - Predictions till 21/05/2020"
   ]
  },
  {
   "cell_type": "code",
   "execution_count": 115,
   "metadata": {},
   "outputs": [
    {
     "data": {
      "text/html": [
       "<div>\n",
       "<style scoped>\n",
       "    .dataframe tbody tr th:only-of-type {\n",
       "        vertical-align: middle;\n",
       "    }\n",
       "\n",
       "    .dataframe tbody tr th {\n",
       "        vertical-align: top;\n",
       "    }\n",
       "\n",
       "    .dataframe thead th {\n",
       "        text-align: right;\n",
       "    }\n",
       "</style>\n",
       "<table border=\"1\" class=\"dataframe\">\n",
       "  <thead>\n",
       "    <tr style=\"text-align: right;\">\n",
       "      <th></th>\n",
       "      <th>Kalman Filter Prediction</th>\n",
       "    </tr>\n",
       "  </thead>\n",
       "  <tbody>\n",
       "    <tr>\n",
       "      <th>2020-05-13</th>\n",
       "      <td>43218.0</td>\n",
       "    </tr>\n",
       "    <tr>\n",
       "      <th>2020-05-14</th>\n",
       "      <td>43483.0</td>\n",
       "    </tr>\n",
       "    <tr>\n",
       "      <th>2020-05-15</th>\n",
       "      <td>43798.0</td>\n",
       "    </tr>\n",
       "    <tr>\n",
       "      <th>2020-05-16</th>\n",
       "      <td>44173.0</td>\n",
       "    </tr>\n",
       "    <tr>\n",
       "      <th>2020-05-17</th>\n",
       "      <td>44604.0</td>\n",
       "    </tr>\n",
       "    <tr>\n",
       "      <th>2020-05-18</th>\n",
       "      <td>45121.0</td>\n",
       "    </tr>\n",
       "    <tr>\n",
       "      <th>2020-05-19</th>\n",
       "      <td>45746.0</td>\n",
       "    </tr>\n",
       "    <tr>\n",
       "      <th>2020-05-20</th>\n",
       "      <td>46484.0</td>\n",
       "    </tr>\n",
       "    <tr>\n",
       "      <th>2020-05-21</th>\n",
       "      <td>47335.0</td>\n",
       "    </tr>\n",
       "  </tbody>\n",
       "</table>\n",
       "</div>"
      ],
      "text/plain": [
       "            Kalman Filter Prediction\n",
       "2020-05-13                   43218.0\n",
       "2020-05-14                   43483.0\n",
       "2020-05-15                   43798.0\n",
       "2020-05-16                   44173.0\n",
       "2020-05-17                   44604.0\n",
       "2020-05-18                   45121.0\n",
       "2020-05-19                   45746.0\n",
       "2020-05-20                   46484.0\n",
       "2020-05-21                   47335.0"
      ]
     },
     "execution_count": 115,
     "metadata": {},
     "output_type": "execute_result"
    }
   ],
   "source": [
    "# creating index as date starting from 27-02-2020\n",
    "dates_ = pd.to_datetime(t_new, unit='D',origin=pd.Timestamp('2020-02-27')) \n",
    "\n",
    "# create dataframe with date as index and display the last few rows \n",
    "kf_dataframe = pd.DataFrame({'Kalman Filter Prediction': x_pred}).set_index(dates_)\n",
    "kf_dataframe.tail(9)"
   ]
  },
  {
   "cell_type": "code",
   "execution_count": 116,
   "metadata": {},
   "outputs": [],
   "source": [
    "# Kalman 2-days ahead estimations\n",
    "kf_pred_2days = kf_dataframe.iloc[75:77].copy()\n",
    "kf_pred_2days.iloc[0] = 42980.0"
   ]
  },
  {
   "cell_type": "code",
   "execution_count": 117,
   "metadata": {},
   "outputs": [
    {
     "data": {
      "text/html": [
       "<div>\n",
       "<style scoped>\n",
       "    .dataframe tbody tr th:only-of-type {\n",
       "        vertical-align: middle;\n",
       "    }\n",
       "\n",
       "    .dataframe tbody tr th {\n",
       "        vertical-align: top;\n",
       "    }\n",
       "\n",
       "    .dataframe thead th {\n",
       "        text-align: right;\n",
       "    }\n",
       "</style>\n",
       "<table border=\"1\" class=\"dataframe\">\n",
       "  <thead>\n",
       "    <tr style=\"text-align: right;\">\n",
       "      <th></th>\n",
       "      <th>Kalman Filter Prediction</th>\n",
       "    </tr>\n",
       "  </thead>\n",
       "  <tbody>\n",
       "    <tr>\n",
       "      <th>2020-05-12</th>\n",
       "      <td>42980.0</td>\n",
       "    </tr>\n",
       "    <tr>\n",
       "      <th>2020-05-13</th>\n",
       "      <td>43218.0</td>\n",
       "    </tr>\n",
       "  </tbody>\n",
       "</table>\n",
       "</div>"
      ],
      "text/plain": [
       "            Kalman Filter Prediction\n",
       "2020-05-12                   42980.0\n",
       "2020-05-13                   43218.0"
      ]
     },
     "execution_count": 117,
     "metadata": {},
     "output_type": "execute_result"
    }
   ],
   "source": [
    "kf_pred_2days"
   ]
  },
  {
   "cell_type": "markdown",
   "metadata": {},
   "source": [
    "### Comparing the results of Kalman Filter with the Logistic Growth \n",
    "\n",
    "The `Kalman Filter` predictions will be compared with the `Logistic Growth predictions`, on both short and long term predictions. Furthermore, these resutls will also be compared to the `actual confirmed cases`."
   ]
  },
  {
   "cell_type": "markdown",
   "metadata": {},
   "source": [
    "#### Short-term comparison (the upcoming two days) - Kalman Filter VS Logistic Growth"
   ]
  },
  {
   "cell_type": "code",
   "execution_count": 126,
   "metadata": {},
   "outputs": [
    {
     "data": {
      "text/html": [
       "<div>\n",
       "<style scoped>\n",
       "    .dataframe tbody tr th:only-of-type {\n",
       "        vertical-align: middle;\n",
       "    }\n",
       "\n",
       "    .dataframe tbody tr th {\n",
       "        vertical-align: top;\n",
       "    }\n",
       "\n",
       "    .dataframe thead th {\n",
       "        text-align: right;\n",
       "    }\n",
       "</style>\n",
       "<table border=\"1\" class=\"dataframe\">\n",
       "  <thead>\n",
       "    <tr style=\"text-align: right;\">\n",
       "      <th></th>\n",
       "      <th>Kalman Filter Prediction</th>\n",
       "      <th>Logistic Growth prediction</th>\n",
       "    </tr>\n",
       "  </thead>\n",
       "  <tbody>\n",
       "    <tr>\n",
       "      <th>2020-05-12</th>\n",
       "      <td>42980.0</td>\n",
       "      <td>42124</td>\n",
       "    </tr>\n",
       "    <tr>\n",
       "      <th>2020-05-13</th>\n",
       "      <td>43218.0</td>\n",
       "      <td>42220</td>\n",
       "    </tr>\n",
       "  </tbody>\n",
       "</table>\n",
       "</div>"
      ],
      "text/plain": [
       "            Kalman Filter Prediction  Logistic Growth prediction\n",
       "2020-05-12                   42980.0                       42124\n",
       "2020-05-13                   43218.0                       42220"
      ]
     },
     "execution_count": 126,
     "metadata": {},
     "output_type": "execute_result"
    }
   ],
   "source": [
    "kf_vs_log_short_term = kf_pred_2days.join(df_logpred.iloc[75:77])\n",
    "kf_vs_log_short_term"
   ]
  },
  {
   "cell_type": "markdown",
   "metadata": {},
   "source": [
    "#### Long-term comparison (the upcoming two days) - Kalman Filter VS Logistic Growth"
   ]
  },
  {
   "cell_type": "code",
   "execution_count": 129,
   "metadata": {},
   "outputs": [
    {
     "data": {
      "text/html": [
       "<div>\n",
       "<style scoped>\n",
       "    .dataframe tbody tr th:only-of-type {\n",
       "        vertical-align: middle;\n",
       "    }\n",
       "\n",
       "    .dataframe tbody tr th {\n",
       "        vertical-align: top;\n",
       "    }\n",
       "\n",
       "    .dataframe thead th {\n",
       "        text-align: right;\n",
       "    }\n",
       "</style>\n",
       "<table border=\"1\" class=\"dataframe\">\n",
       "  <thead>\n",
       "    <tr style=\"text-align: right;\">\n",
       "      <th></th>\n",
       "      <th>Kalman Filter Prediction</th>\n",
       "      <th>Logistic Growth prediction</th>\n",
       "    </tr>\n",
       "  </thead>\n",
       "  <tbody>\n",
       "    <tr>\n",
       "      <th>2020-05-12</th>\n",
       "      <td>42990.0</td>\n",
       "      <td>42124.0</td>\n",
       "    </tr>\n",
       "    <tr>\n",
       "      <th>2020-05-13</th>\n",
       "      <td>43218.0</td>\n",
       "      <td>42220.0</td>\n",
       "    </tr>\n",
       "    <tr>\n",
       "      <th>2020-05-14</th>\n",
       "      <td>43483.0</td>\n",
       "      <td>42307.0</td>\n",
       "    </tr>\n",
       "    <tr>\n",
       "      <th>2020-05-15</th>\n",
       "      <td>43798.0</td>\n",
       "      <td>42384.0</td>\n",
       "    </tr>\n",
       "    <tr>\n",
       "      <th>2020-05-16</th>\n",
       "      <td>44173.0</td>\n",
       "      <td>42453.0</td>\n",
       "    </tr>\n",
       "    <tr>\n",
       "      <th>2020-05-17</th>\n",
       "      <td>44604.0</td>\n",
       "      <td>42515.0</td>\n",
       "    </tr>\n",
       "    <tr>\n",
       "      <th>2020-05-18</th>\n",
       "      <td>45121.0</td>\n",
       "      <td>42570.0</td>\n",
       "    </tr>\n",
       "    <tr>\n",
       "      <th>2020-05-19</th>\n",
       "      <td>45746.0</td>\n",
       "      <td>42620.0</td>\n",
       "    </tr>\n",
       "    <tr>\n",
       "      <th>2020-05-20</th>\n",
       "      <td>46484.0</td>\n",
       "      <td>42664.0</td>\n",
       "    </tr>\n",
       "    <tr>\n",
       "      <th>2020-05-21</th>\n",
       "      <td>47335.0</td>\n",
       "      <td>NaN</td>\n",
       "    </tr>\n",
       "  </tbody>\n",
       "</table>\n",
       "</div>"
      ],
      "text/plain": [
       "            Kalman Filter Prediction  Logistic Growth prediction\n",
       "2020-05-12                   42990.0                     42124.0\n",
       "2020-05-13                   43218.0                     42220.0\n",
       "2020-05-14                   43483.0                     42307.0\n",
       "2020-05-15                   43798.0                     42384.0\n",
       "2020-05-16                   44173.0                     42453.0\n",
       "2020-05-17                   44604.0                     42515.0\n",
       "2020-05-18                   45121.0                     42570.0\n",
       "2020-05-19                   45746.0                     42620.0\n",
       "2020-05-20                   46484.0                     42664.0\n",
       "2020-05-21                   47335.0                         NaN"
      ]
     },
     "execution_count": 129,
     "metadata": {},
     "output_type": "execute_result"
    }
   ],
   "source": [
    "kf_vs_log_long_term = kf_dataframe.iloc[75:].join(df_logpred.iloc[75:])\n",
    "kf_vs_log_long_term"
   ]
  },
  {
   "cell_type": "markdown",
   "metadata": {},
   "source": [
    "#### Comparison with actual confirmed cases - Actual confirmed cases VS Kalman Filter VS Logistic Growth"
   ]
  },
  {
   "cell_type": "code",
   "execution_count": 134,
   "metadata": {},
   "outputs": [],
   "source": [
    "# Generating the values of confirmed cases \n",
    "cases_array = np.array([df_covid[\"Total Cases\"].iloc[-1], \"?\"])\n",
    "dates_comparison = pd.to_datetime([0,1], unit='D',origin=pd.Timestamp('2020-05-12')) \n",
    "\n",
    "# Creating a DataFrame for comparison \n",
    "df_comparison = pd.DataFrame({'Confirmed Cases': cases_array}).set_index(dates_comparison)"
   ]
  },
  {
   "cell_type": "code",
   "execution_count": 136,
   "metadata": {},
   "outputs": [
    {
     "data": {
      "text/html": [
       "<div>\n",
       "<style scoped>\n",
       "    .dataframe tbody tr th:only-of-type {\n",
       "        vertical-align: middle;\n",
       "    }\n",
       "\n",
       "    .dataframe tbody tr th {\n",
       "        vertical-align: top;\n",
       "    }\n",
       "\n",
       "    .dataframe thead th {\n",
       "        text-align: right;\n",
       "    }\n",
       "</style>\n",
       "<table border=\"1\" class=\"dataframe\">\n",
       "  <thead>\n",
       "    <tr style=\"text-align: right;\">\n",
       "      <th></th>\n",
       "      <th>Confirmed Cases</th>\n",
       "      <th>Kalman Filter Prediction</th>\n",
       "      <th>Logistic Growth prediction</th>\n",
       "    </tr>\n",
       "  </thead>\n",
       "  <tbody>\n",
       "    <tr>\n",
       "      <th>2020-05-12</th>\n",
       "      <td>42984</td>\n",
       "      <td>42980.0</td>\n",
       "      <td>42124</td>\n",
       "    </tr>\n",
       "    <tr>\n",
       "      <th>2020-05-13</th>\n",
       "      <td>?</td>\n",
       "      <td>43218.0</td>\n",
       "      <td>42220</td>\n",
       "    </tr>\n",
       "  </tbody>\n",
       "</table>\n",
       "</div>"
      ],
      "text/plain": [
       "           Confirmed Cases  Kalman Filter Prediction  \\\n",
       "2020-05-12           42984                   42980.0   \n",
       "2020-05-13               ?                   43218.0   \n",
       "\n",
       "            Logistic Growth prediction  \n",
       "2020-05-12                       42124  \n",
       "2020-05-13                       42220  "
      ]
     },
     "execution_count": 136,
     "metadata": {},
     "output_type": "execute_result"
    }
   ],
   "source": [
    "df_comparison.join(kf_pred_2days.join(df_logpred[75:77]))"
   ]
  }
 ],
 "metadata": {
  "kernelspec": {
   "display_name": "Python 3",
   "language": "python",
   "name": "python3"
  },
  "language_info": {
   "codemirror_mode": {
    "name": "ipython",
    "version": 3
   },
   "file_extension": ".py",
   "mimetype": "text/x-python",
   "name": "python",
   "nbconvert_exporter": "python",
   "pygments_lexer": "ipython3",
   "version": "3.7.3"
  }
 },
 "nbformat": 4,
 "nbformat_minor": 4
}

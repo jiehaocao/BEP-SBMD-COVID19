{
 "cells": [
  {
   "cell_type": "markdown",
   "metadata": {},
   "source": [
    "# Compartmental models in epidemiology "
   ]
  },
  {
   "cell_type": "markdown",
   "metadata": {},
   "source": [
    "**Authors:** J.H. Cao \n",
    "<br>\n",
    "**Supervisors:** prof.dr.ir. N.A.W. van Riel, dr. D. Bosnacki\n",
    "<br>\n",
    "**Deparment:** Biomedical Engineering, Computational Biology Group at Eindhoven University of Technology"
   ]
  },
  {
   "cell_type": "markdown",
   "metadata": {},
   "source": [
    "This notebook contain the codes to model and simulate an epidemic. The focus is on **_two popular models_** used for the mathematical modelling of an infectious disease.\n",
    "\n",
    "The two models are: \n",
    "<br>"
   ]
  },
  {
   "cell_type": "markdown",
   "metadata": {},
   "source": [
    "1. **SIR model without vital dynamics, usually for the modelling of flu or epidemic**\n",
    "2. **SEIR model, above model with an extra compartment \"E\"xposed**"
   ]
  },
  {
   "cell_type": "markdown",
   "metadata": {},
   "source": [
    " More specifically, these models will be used to model the spread of **COVID-19** in the Netherlands. Furhtermore, with the **SEIR** model, it a possible to get an estimate of the number of people exposed to COVID-19 ( _this is an estimate, the true number can only be verified with testing_ ). \n",
    "<br><br>\n",
    "With these models, it is also possible to analyse whether a \"lockdown\" has any effect on the course/spread of this virus.\n"
   ]
  },
  {
   "cell_type": "markdown",
   "metadata": {},
   "source": [
    "##### NOTE: THE PARAMETERS A CHOSEN RANDOMLY, NOT YET ESTIMATED !! (for testing the models and plots)"
   ]
  },
  {
   "cell_type": "markdown",
   "metadata": {},
   "source": [
    "## Imports "
   ]
  },
  {
   "cell_type": "markdown",
   "metadata": {},
   "source": [
    "This section is for the import of the important python packages needed to develop these models."
   ]
  },
  {
   "cell_type": "code",
   "execution_count": 1,
   "metadata": {},
   "outputs": [],
   "source": [
    "%matplotlib inline \n",
    "\n",
    "from scipy.integrate import odeint # This package is needed since we are dealing with oridnary differential equations\n",
    "import numpy as np\n",
    "import matplotlib.pyplot as plt\n"
   ]
  },
  {
   "cell_type": "markdown",
   "metadata": {},
   "source": [
    "## SIR model - the very basic epidemic model"
   ]
  },
  {
   "cell_type": "markdown",
   "metadata": {},
   "source": [
    "For the **SIR** model, there are 3 differntial equations:"
   ]
  },
  {
   "cell_type": "markdown",
   "metadata": {},
   "source": [
    "![](./sir_model.png)"
   ]
  },
  {
   "cell_type": "markdown",
   "metadata": {},
   "source": [
    "_Source:_ https://en.wikipedia.org/wiki/Compartmental_models_in_epidemiology#The_SIR_model_without_vital_dynamics"
   ]
  },
  {
   "cell_type": "markdown",
   "metadata": {},
   "source": [
    "From above picture, we would define a function that will wrap up all three differntial equations:"
   ]
  },
  {
   "cell_type": "code",
   "execution_count": 2,
   "metadata": {},
   "outputs": [],
   "source": [
    "### The input (for sanity):\n",
    "\n",
    "#  y = the differential equations wrapped up\n",
    "#  dS_dt = dS/dt \n",
    "#  dI_dt = dI/dt\n",
    "#  dR_dt = dR/dr \n",
    "#  t = time \n",
    "#  beta = number of people an infected person can infect \n",
    "#  gamma = recovery rate which is 1/D, with D = incubation time\n",
    "#  N = Number of people / population \n",
    "#  S = susceptible (number of people that are prone to infection)\n",
    "#  I = number of infected \n",
    "#  R = number of recovered patients \n"
   ]
  },
  {
   "cell_type": "code",
   "execution_count": 3,
   "metadata": {},
   "outputs": [],
   "source": [
    "def diff_sir(y, t, N, beta, gamma):\n",
    "    S, I, R = y # local variables for the S, I and R and wrapped in y \n",
    "    \n",
    "    \n",
    "    dS_dt = -beta * S * (I / N)\n",
    "    dI_dt = beta * S * (I / N) - gamma * I\n",
    "    dR_dt = gamma * I\n",
    "\n",
    "    return dS_dt, dI_dt, dR_dt"
   ]
  },
  {
   "cell_type": "markdown",
   "metadata": {},
   "source": [
    "#### Plotting the results "
   ]
  },
  {
   "cell_type": "code",
   "execution_count": 4,
   "metadata": {},
   "outputs": [],
   "source": [
    "def plot_sirmodel(t, S, I, R):\n",
    "  f, ax = plt.subplots(1,1,figsize=(10,4))\n",
    "  ax.plot(t, S, 'b', alpha=0.7, linewidth=2, label='Susceptible')\n",
    "  ax.plot(t, I, 'r', alpha=0.7, linewidth=2, label='Infected')\n",
    "  ax.plot(t, R, 'g', alpha=0.7, linewidth=2, label='Recovered')\n",
    "    \n",
    "  ax.set_xlabel('Time (days)', fontsize=15)\n",
    "  ax.set_ylabel(\"Number of people\", fontsize=15)\n",
    "  ax.set_title(\"SIR model\", fontsize=20, weight='bold')\n",
    "  \n",
    "  ax.yaxis.set_tick_params(length=0)\n",
    "  ax.xaxis.set_tick_params(length=0)\n",
    "  ax.grid(b=True, which='major', c='w', lw=2, ls='-')\n",
    "  ax.spines['top'].set_visible(False)\n",
    "  ax.spines['right'].set_visible(False)\n",
    "  \n",
    "  legend = ax.legend()\n",
    "  legend.get_frame().set_alpha(1.0)\n",
    "#   plt.savefig(\"sir_simulation.png\")\n",
    "  \n",
    "  plt.show();"
   ]
  },
  {
   "cell_type": "code",
   "execution_count": 5,
   "metadata": {},
   "outputs": [],
   "source": [
    "# Important parameters that can be estimated with parameter estimation and current data \n",
    "\n",
    "N = 17000000     # rough estimate of population in the Netherlands\n",
    "beta = 1         # Assuming it infects only 1 person per day\n",
    "D = 14           # estimated time that the patient is still sick and can infect (incubation time of 14 days) \n",
    "gamma = 1.0 / D\n",
    "\n",
    "# R0 = 2.24\n",
    "# beta = R0 * gamma  # R0 = Reproductive number of COVID-19\n",
    "\n",
    "\n",
    "# Time \n",
    "\n",
    "nrdays = 100     # here the estimation is for 100 days \n",
    "t = np.linspace(0, nrdays, nrdays) \n",
    "\n",
    "# initial values \n",
    "\n",
    "S_initial = N-1         # beginning of epidemic: S = N-1, one infected, but the rest remain susceptible\n",
    "I_initial = 1           # One infected at the start \n",
    "R_initial = 0           # No recovered at the beginning \n",
    "\n",
    "y_initial = S_initial, I_initial, R_initial "
   ]
  },
  {
   "cell_type": "code",
   "execution_count": 6,
   "metadata": {},
   "outputs": [],
   "source": [
    "# Solving the ODE and returning a matrix for the nr of days (t)\n",
    "\n",
    "diff_matrix_sir = odeint(diff_sir, y_initial, t, args=(N, beta, gamma))\n",
    "S, I, R = diff_matrix_sir.T"
   ]
  },
  {
   "cell_type": "code",
   "execution_count": 7,
   "metadata": {},
   "outputs": [
    {
     "data": {
      "image/png": "[encoded data removed]",
      "text/plain": [
       "<Figure size 720x288 with 1 Axes>"
      ]
     },
     "metadata": {
      "needs_background": "light"
     },
     "output_type": "display_data"
    }
   ],
   "source": [
    "# Plotting results using function defined earlier \n",
    "\n",
    "plot_sirmodel(t, S, I, R)"
   ]
  },
  {
   "cell_type": "markdown",
   "metadata": {},
   "source": [
    "<br>"
   ]
  },
  {
   "cell_type": "markdown",
   "metadata": {},
   "source": [
    "## SEIR model - Adding extra compartment \"E\"xposed"
   ]
  },
  {
   "cell_type": "markdown",
   "metadata": {},
   "source": [
    "For the **SEIR** model, there are 4 differntial equations:"
   ]
  },
  {
   "cell_type": "markdown",
   "metadata": {},
   "source": [
    "![](./seir_model.PNG)"
   ]
  },
  {
   "cell_type": "markdown",
   "metadata": {},
   "source": [
    "_Source:_ https://en.wikipedia.org/wiki/Compartmental_models_in_epidemiology#The_SIR_model_without_vital_dynamics"
   ]
  },
  {
   "cell_type": "code",
   "execution_count": 8,
   "metadata": {},
   "outputs": [],
   "source": [
    "# alpha = 1 / incubation_time\n",
    "# mu    = death_rate\n",
    "\n",
    "\n",
    "def diff_seir(y, t, N, beta, gamma, alpha, mu):\n",
    "    S, E, I, R = y \n",
    "    \n",
    "    # The 4 differential equations:\n",
    "    \n",
    "    dS_dt = mu * N - mu * S - beta * (I / N) * S\n",
    "    dE_dt = beta * (I / N) * S - (mu + alpha) * E\n",
    "    dI_dt = alpha * E - (gamma + mu) * I\n",
    "    dR_dt = gamma * I - mu * R\n",
    "\n",
    "    \n",
    "    return dS_dt, dE_dt, dI_dt, dR_dt"
   ]
  },
  {
   "cell_type": "code",
   "execution_count": 9,
   "metadata": {},
   "outputs": [],
   "source": [
    "def plot_seirmodel(t, S, E, I, R):\n",
    "  f, ax = plt.subplots(1,1,figsize=(10,4))\n",
    "  ax.plot(t, S, 'b', alpha=0.7, linewidth=2, label='Susceptible')\n",
    "  ax.plot(t, E, 'y', alpha=0.7, linewidth=2, label='Exposed')  \n",
    "  ax.plot(t, I, 'r', alpha=0.7, linewidth=2, label='Infected')\n",
    "  ax.plot(t, R, 'g', alpha=0.7, linewidth=2, label='Recovered')\n",
    "\n",
    "    \n",
    "    \n",
    "  ax.set_xlabel('Time (days)', fontsize=15)\n",
    "  ax.set_ylabel(\"Number of people\", fontsize=15)\n",
    "  ax.set_title(\"SEIR model\", fontsize=20, weight='bold')\n",
    "  \n",
    "  ax.yaxis.set_tick_params(length=0)\n",
    "  ax.xaxis.set_tick_params(length=0)\n",
    "  ax.grid(b=True, which='major', c='w', lw=2, ls='-')\n",
    "  ax.spines['top'].set_visible(False)\n",
    "  ax.spines['right'].set_visible(False)\n",
    "  \n",
    "  legend = ax.legend()\n",
    "  legend.get_frame().set_alpha(1.0)\n",
    "\n",
    "  \n",
    "  plt.show();"
   ]
  },
  {
   "cell_type": "code",
   "execution_count": 10,
   "metadata": {},
   "outputs": [],
   "source": [
    "# Important parameters that can be estimated with parameter estimation and current data \n",
    "\n",
    "N = 17000000            # rough estimate of population in the Netherlands\n",
    "beta = 1                # Assuming it infects only 1 person per day\n",
    "D = 7                   # estimated time that the patient is still sick and can infect \n",
    "incubation_time = 14    # incubation time of COVID-19\n",
    "gamma = 1.0 / D\n",
    "mu    = 0.03            # The death rate of COVID-19\n",
    "alpha = 1 / incubation_time \n",
    "\n",
    "\n",
    "# beta = ((R0 * (mu + alpha)) / alpha) * (mu + gamma) # R0 = reproductive number of COVID-19 when beta is unknown\n",
    "\n",
    "# Time \n",
    "\n",
    "nrdays = 365     # here the estimation is for 1 year \n",
    "t = np.linspace(0, nrdays, nrdays) \n",
    "\n",
    "# initial values \n",
    "\n",
    "S_initial = N-1         # beginning of epidemic: S = N-1, one infected, but the rest remain susceptible\n",
    "E_initial = 1           # Number of exposed at the beginning\n",
    "I_initial = 1           # One infected at the start \n",
    "R_initial = 0           # No recovered at the beginning \n",
    "\n",
    "\n",
    "y_initial = S_initial, E_initial, I_initial, R_initial"
   ]
  },
  {
   "cell_type": "code",
   "execution_count": 11,
   "metadata": {},
   "outputs": [],
   "source": [
    "# Solving the ODE and returning a matrix for the nr of days (t)\n",
    "\n",
    "diff_matrix_seir = odeint(diff_seir, y_initial, t, args=(N, beta, gamma, alpha, mu))\n",
    "S, E, I, R = diff_matrix_seir.T"
   ]
  },
  {
   "cell_type": "code",
   "execution_count": 12,
   "metadata": {},
   "outputs": [
    {
     "data": {
      "image/png": "[encoded data removed]",
      "text/plain": [
       "<Figure size 720x288 with 1 Axes>"
      ]
     },
     "metadata": {
      "needs_background": "light"
     },
     "output_type": "display_data"
    }
   ],
   "source": [
    "plot_seirmodel(t, S, E, I, R)"
   ]
  },
  {
   "cell_type": "markdown",
   "metadata": {},
   "source": [
    "<br>"
   ]
  },
  {
   "cell_type": "markdown",
   "metadata": {},
   "source": [
    "## SEIR(D) model - Not taking vital dynamics into account, but deaths are"
   ]
  },
  {
   "cell_type": "code",
   "execution_count": 13,
   "metadata": {},
   "outputs": [],
   "source": [
    "# alpha = 1 / incubation_time\n",
    "# mu    = death_rate\n",
    "\n",
    "\n",
    "def diff_seird(y, t, N, beta, gamma, delta, mu, rho):\n",
    "    S, E, I, R, D = y \n",
    "    \n",
    "    # The 4 differential equations:\n",
    "    \n",
    "    dS_dt =  - beta * (I / N) * S\n",
    "    dE_dt = beta * (I / N) * S - delta * E\n",
    "    dI_dt = delta * E - (1 - mu) * gamma *  I - mu * rho * I\n",
    "    dR_dt = (1 - mu) * gamma * I\n",
    "    dD_dt = mu * rho * I \n",
    "    \n",
    "    return dS_dt, dE_dt, dI_dt, dR_dt, dD_dt"
   ]
  },
  {
   "cell_type": "code",
   "execution_count": 14,
   "metadata": {},
   "outputs": [],
   "source": [
    "def plot_seirdmodel(t, S, E, I, R, D):\n",
    "  f, ax = plt.subplots(1,1,figsize=(10,4))\n",
    "  ax.plot(t, S, 'b', alpha=0.7, linewidth=2, label='Susceptible')\n",
    "  ax.plot(t, E, 'y', alpha=0.7, linewidth=2, label='Exposed')  \n",
    "  ax.plot(t, I, 'r', alpha=0.7, linewidth=2, label='Infected')\n",
    "  ax.plot(t, R, 'g', alpha=0.7, linewidth=2, label='Recovered')\n",
    "  ax.plot(t, D, 'k', alpha=0.7, linewidth=2, label='Deceased')\n",
    "    \n",
    "    \n",
    "  ax.set_xlabel('Time (days)', fontsize=15)\n",
    "  ax.set_ylabel(\"Number of people\", fontsize=15)\n",
    "  ax.set_title(\"SEIR(D) model\", fontsize=20, weight='bold')\n",
    "  \n",
    "  ax.yaxis.set_tick_params(length=0)\n",
    "  ax.xaxis.set_tick_params(length=0)\n",
    "  ax.grid(b=True, which='major', c='w', lw=2, ls='-')\n",
    "  ax.spines['top'].set_visible(False)\n",
    "  ax.spines['right'].set_visible(False)\n",
    "  \n",
    "  legend = ax.legend()\n",
    "  legend.get_frame().set_alpha(1.0)\n",
    "#   plt.savefig(\"seird_simulation.png\")\n",
    "  \n",
    "  plt.show();"
   ]
  },
  {
   "cell_type": "code",
   "execution_count": 15,
   "metadata": {},
   "outputs": [],
   "source": [
    "# Important parameters that can be estimated with parameter estimation and current data \n",
    "\n",
    "N = 17000000            # rough estimate of population in the Netherlands\n",
    "beta = 1                # Assuming it infects only 1 person per day\n",
    "D = 7                   # estimated time that the patient is still sick and can infect \n",
    "incubation_time = 14    # incubation time of COVID-19\n",
    "gamma = 1.0 / D\n",
    "mu    = 0.12            # The death rate of COVID-19\n",
    "delta = 1 / incubation_time \n",
    "rho   = 1 / 100          # deceased in ICU pass away after 10 days\n",
    "\n",
    "# R0 = 2.24\n",
    "# beta = R0 * gamma # R0 = reproductive number of COVID-19 when beta is unknown\n",
    "\n",
    "# Time \n",
    "\n",
    "nrdays = 365     # here the estimation is for 1 year \n",
    "t = np.linspace(0, nrdays, nrdays) \n",
    "\n",
    "\n",
    "\n",
    "# R0_start, k, lockdown_date, R0_end = 2.24, 0.1, 0, 0.8\n",
    "\n",
    "# def logistic_R0(t):\n",
    "#     return (R0_start-R0_end) / (1 + np.exp(-k*(-t+lockdown_date))) + R0_end\n",
    "\n",
    "# def beta(t):\n",
    "#     return logistic_R0(t) * gamma\n",
    "\n",
    "\n",
    "\n",
    "\n",
    "# initial values \n",
    "\n",
    "S_initial = N-1         # beginning of epidemic: S = N-1, one infected, but the rest remain susceptible\n",
    "E_initial = 1           # Number of exposed at the beginning\n",
    "I_initial = 1           # One infected at the start \n",
    "R_initial = 0           # No recovered at the beginning \n",
    "D_initial = 0\n",
    "\n",
    "y_initial = S_initial, E_initial, I_initial, R_initial, D_initial"
   ]
  },
  {
   "cell_type": "code",
   "execution_count": 16,
   "metadata": {},
   "outputs": [],
   "source": [
    "# Solving the ODE and returning a matrix for the nr of days (t)\n",
    "\n",
    "diff_matrix_seird = odeint(diff_seird, y_initial, t, args=(N, beta, gamma, delta, mu, rho))\n",
    "S, E, I, R, D = diff_matrix_seird.T"
   ]
  },
  {
   "cell_type": "code",
   "execution_count": 17,
   "metadata": {
    "scrolled": true
   },
   "outputs": [
    {
     "data": {
      "image/png": "[encoded data removed]",
      "text/plain": [
       "<Figure size 720x288 with 1 Axes>"
      ]
     },
     "metadata": {
      "needs_background": "light"
     },
     "output_type": "display_data"
    }
   ],
   "source": [
    "plot_seirdmodel(t, S, E, I, R, D)"
   ]
  }
 ],
 "metadata": {
  "kernelspec": {
   "display_name": "Python 3",
   "language": "python",
   "name": "python3"
  },
  "language_info": {
   "codemirror_mode": {
    "name": "ipython",
    "version": 3
   },
   "file_extension": ".py",
   "mimetype": "text/x-python",
   "name": "python",
   "nbconvert_exporter": "python",
   "pygments_lexer": "ipython3",
   "version": "3.7.3"
  }
 },
 "nbformat": 4,
 "nbformat_minor": 4
}

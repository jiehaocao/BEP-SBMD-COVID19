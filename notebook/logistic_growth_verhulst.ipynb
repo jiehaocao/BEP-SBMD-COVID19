{
 "cells": [
  {
   "cell_type": "markdown",
   "metadata": {},
   "source": [
    "# Logistic Growth (Verhulst) - Modelling of COVID-19 (in the Netherlands)"
   ]
  },
  {
   "cell_type": "markdown",
   "metadata": {},
   "source": [
    "**Authors:** J.H. Cao \n",
    "<br>\n",
    "**Supervisors:** prof.dr.ir. N.A.W. van Riel, dr. D. Bosnacki\n",
    "<br>\n",
    "**Deparment:** Biomedical Engineering, Computational Biology Group at Eindhoven University of Technology"
   ]
  },
  {
   "cell_type": "markdown",
   "metadata": {},
   "source": [
    "This notebook contain the codes to model and simulate an epidemic. The focus is on **a logistic growth model developed by Verhulst** and can be used for  the mathematical modelling of an infectious disease.\n",
    "\n"
   ]
  },
  {
   "cell_type": "markdown",
   "metadata": {},
   "source": [
    "More specifically, the model will be used to model the spread of **COVID-19** in the Netherlands. Furhtermore, with the this model, it a possible to get an estimation of the number of people infected with COVID-19 ( _this is an estimate, the true number can only be verified with testing_ ). \n",
    "\n",
    "There are two approaches for the logistic growth function, which are:\n",
    "<br>\n",
    "1. Using the package from Scipy, to perform a curve fitting and return the optimal parameters for the logistic growth. This package uses **\"Nonlinear Least Squares Estimation\"**.\n",
    "<br>\n",
    "2. Using a self-defined function, to estimate the parameters (for the logistic funtion), based on **\"Maximum Likelihood Estimation\"**.\n",
    "\n",
    "<br>\n",
    "With these models, it is also possible to analyse whether a \"lockdown\" has any effect on the course/spread of this virus.\n"
   ]
  },
  {
   "cell_type": "markdown",
   "metadata": {},
   "source": [
    "## Imports"
   ]
  },
  {
   "cell_type": "markdown",
   "metadata": {},
   "source": [
    "### Packages"
   ]
  },
  {
   "cell_type": "markdown",
   "metadata": {},
   "source": [
    "This section is for the import of the important python packages needed to develop these models."
   ]
  },
  {
   "cell_type": "code",
   "execution_count": 1,
   "metadata": {},
   "outputs": [],
   "source": [
    "%matplotlib inline \n",
    "\n",
    "import pandas as pd\n",
    "import numpy as np\n",
    "import matplotlib.pyplot as plt\n",
    "\n",
    "from scipy.optimize import curve_fit # This package is necessary for the logistic growth curve fit "
   ]
  },
  {
   "cell_type": "markdown",
   "metadata": {},
   "source": [
    "### Data - Number of recorded cases in the Netherlands"
   ]
  },
  {
   "cell_type": "markdown",
   "metadata": {},
   "source": [
    "This section is for the import of the data regarding the number of recorded cases of COVID-19 in the Netherlands"
   ]
  },
  {
   "cell_type": "code",
   "execution_count": 2,
   "metadata": {
    "scrolled": true
   },
   "outputs": [
    {
     "data": {
      "text/html": [
       "<div>\n",
       "<style scoped>\n",
       "    .dataframe tbody tr th:only-of-type {\n",
       "        vertical-align: middle;\n",
       "    }\n",
       "\n",
       "    .dataframe tbody tr th {\n",
       "        vertical-align: top;\n",
       "    }\n",
       "\n",
       "    .dataframe thead th {\n",
       "        text-align: right;\n",
       "    }\n",
       "</style>\n",
       "<table border=\"1\" class=\"dataframe\">\n",
       "  <thead>\n",
       "    <tr style=\"text-align: right;\">\n",
       "      <th></th>\n",
       "      <th>Aantal</th>\n",
       "    </tr>\n",
       "    <tr>\n",
       "      <th>Datum</th>\n",
       "      <th></th>\n",
       "    </tr>\n",
       "  </thead>\n",
       "  <tbody>\n",
       "    <tr>\n",
       "      <th>2020-02-27</th>\n",
       "      <td>1</td>\n",
       "    </tr>\n",
       "    <tr>\n",
       "      <th>2020-02-28</th>\n",
       "      <td>2</td>\n",
       "    </tr>\n",
       "    <tr>\n",
       "      <th>2020-02-29</th>\n",
       "      <td>7</td>\n",
       "    </tr>\n",
       "    <tr>\n",
       "      <th>2020-03-01</th>\n",
       "      <td>10</td>\n",
       "    </tr>\n",
       "    <tr>\n",
       "      <th>2020-03-02</th>\n",
       "      <td>18</td>\n",
       "    </tr>\n",
       "  </tbody>\n",
       "</table>\n",
       "</div>"
      ],
      "text/plain": [
       "            Aantal\n",
       "Datum             \n",
       "2020-02-27       1\n",
       "2020-02-28       2\n",
       "2020-02-29       7\n",
       "2020-03-01      10\n",
       "2020-03-02      18"
      ]
     },
     "execution_count": 2,
     "metadata": {},
     "output_type": "execute_result"
    }
   ],
   "source": [
    "# The newest file containing the number of (+) cases in the Netherlands\n",
    "\n",
    "covid19_NL_file = './data/rivm_corona_in_nl_daily.txt'\n",
    "\n",
    "df_covid =  pd.read_csv(covid19_NL_file, parse_dates=['Datum']).set_index(\"Datum\")\n",
    "\n",
    "df_covid.head()"
   ]
  },
  {
   "cell_type": "markdown",
   "metadata": {},
   "source": [
    "### Data - Number of Hospital Admission / ICU in the Netherlands ( under development)"
   ]
  },
  {
   "cell_type": "markdown",
   "metadata": {},
   "source": [
    "#### Hospital intake:"
   ]
  },
  {
   "cell_type": "code",
   "execution_count": 3,
   "metadata": {},
   "outputs": [
    {
     "data": {
      "text/html": [
       "<div>\n",
       "<style scoped>\n",
       "    .dataframe tbody tr th:only-of-type {\n",
       "        vertical-align: middle;\n",
       "    }\n",
       "\n",
       "    .dataframe tbody tr th {\n",
       "        vertical-align: top;\n",
       "    }\n",
       "\n",
       "    .dataframe thead th {\n",
       "        text-align: right;\n",
       "    }\n",
       "</style>\n",
       "<table border=\"1\" class=\"dataframe\">\n",
       "  <thead>\n",
       "    <tr style=\"text-align: right;\">\n",
       "      <th></th>\n",
       "      <th>Hospital Intake</th>\n",
       "    </tr>\n",
       "    <tr>\n",
       "      <th>Datum</th>\n",
       "      <th></th>\n",
       "    </tr>\n",
       "  </thead>\n",
       "  <tbody>\n",
       "    <tr>\n",
       "      <th>2020-03-13</th>\n",
       "      <td>115</td>\n",
       "    </tr>\n",
       "    <tr>\n",
       "      <th>2020-03-14</th>\n",
       "      <td>136</td>\n",
       "    </tr>\n",
       "    <tr>\n",
       "      <th>2020-03-15</th>\n",
       "      <td>162</td>\n",
       "    </tr>\n",
       "    <tr>\n",
       "      <th>2020-03-16</th>\n",
       "      <td>205</td>\n",
       "    </tr>\n",
       "    <tr>\n",
       "      <th>2020-03-17</th>\n",
       "      <td>314</td>\n",
       "    </tr>\n",
       "  </tbody>\n",
       "</table>\n",
       "</div>"
      ],
      "text/plain": [
       "            Hospital Intake\n",
       "Datum                      \n",
       "2020-03-13              115\n",
       "2020-03-14              136\n",
       "2020-03-15              162\n",
       "2020-03-16              205\n",
       "2020-03-17              314"
      ]
     },
     "execution_count": 3,
     "metadata": {},
     "output_type": "execute_result"
    }
   ],
   "source": [
    "hosp_NL_intake = './data/rivm_corona_in_nl_hosp.csv'\n",
    "\n",
    "df_hosp_nl = pd.read_csv(hosp_NL_intake, parse_dates=['Datum']).set_index(\"Datum\")\n",
    "df_hosp_nl.iloc[15:20]"
   ]
  },
  {
   "cell_type": "markdown",
   "metadata": {},
   "source": [
    "#### ICU intake:"
   ]
  },
  {
   "cell_type": "code",
   "execution_count": 4,
   "metadata": {},
   "outputs": [
    {
     "data": {
      "text/html": [
       "<div>\n",
       "<style scoped>\n",
       "    .dataframe tbody tr th:only-of-type {\n",
       "        vertical-align: middle;\n",
       "    }\n",
       "\n",
       "    .dataframe tbody tr th {\n",
       "        vertical-align: top;\n",
       "    }\n",
       "\n",
       "    .dataframe thead th {\n",
       "        text-align: right;\n",
       "    }\n",
       "</style>\n",
       "<table border=\"1\" class=\"dataframe\">\n",
       "  <thead>\n",
       "    <tr style=\"text-align: right;\">\n",
       "      <th></th>\n",
       "      <th>IC Admission</th>\n",
       "    </tr>\n",
       "    <tr>\n",
       "      <th>Datum</th>\n",
       "      <th></th>\n",
       "    </tr>\n",
       "  </thead>\n",
       "  <tbody>\n",
       "    <tr>\n",
       "      <th>2020-02-27</th>\n",
       "      <td>6</td>\n",
       "    </tr>\n",
       "    <tr>\n",
       "      <th>2020-02-28</th>\n",
       "      <td>7</td>\n",
       "    </tr>\n",
       "    <tr>\n",
       "      <th>2020-02-29</th>\n",
       "      <td>8</td>\n",
       "    </tr>\n",
       "    <tr>\n",
       "      <th>2020-03-01</th>\n",
       "      <td>10</td>\n",
       "    </tr>\n",
       "    <tr>\n",
       "      <th>2020-03-02</th>\n",
       "      <td>9</td>\n",
       "    </tr>\n",
       "  </tbody>\n",
       "</table>\n",
       "</div>"
      ],
      "text/plain": [
       "            IC Admission\n",
       "Datum                   \n",
       "2020-02-27             6\n",
       "2020-02-28             7\n",
       "2020-02-29             8\n",
       "2020-03-01            10\n",
       "2020-03-02             9"
      ]
     },
     "execution_count": 4,
     "metadata": {},
     "output_type": "execute_result"
    }
   ],
   "source": [
    "icu_NL_intake = './data/icu_opname.csv'\n",
    "df_icu_nl = pd.read_csv(icu_NL_intake, parse_dates=['Datum']).set_index(\"Datum\")\n",
    "df_icu_nl.head()"
   ]
  },
  {
   "cell_type": "markdown",
   "metadata": {},
   "source": [
    "<br>"
   ]
  },
  {
   "cell_type": "markdown",
   "metadata": {},
   "source": [
    "## Logistic Growth (3 parameters, Verhulst) - Number of Recorded Cases"
   ]
  },
  {
   "cell_type": "markdown",
   "metadata": {},
   "source": [
    "### Nonlinear Least Squares Estimation"
   ]
  },
  {
   "cell_type": "code",
   "execution_count": 5,
   "metadata": {},
   "outputs": [
    {
     "data": {
      "text/html": [
       "<div>\n",
       "<style scoped>\n",
       "    .dataframe tbody tr th:only-of-type {\n",
       "        vertical-align: middle;\n",
       "    }\n",
       "\n",
       "    .dataframe tbody tr th {\n",
       "        vertical-align: top;\n",
       "    }\n",
       "\n",
       "    .dataframe thead th {\n",
       "        text-align: right;\n",
       "    }\n",
       "</style>\n",
       "<table border=\"1\" class=\"dataframe\">\n",
       "  <thead>\n",
       "    <tr style=\"text-align: right;\">\n",
       "      <th></th>\n",
       "      <th>Timestep</th>\n",
       "      <th>Aantal</th>\n",
       "    </tr>\n",
       "    <tr>\n",
       "      <th>Datum</th>\n",
       "      <th></th>\n",
       "      <th></th>\n",
       "    </tr>\n",
       "  </thead>\n",
       "  <tbody>\n",
       "    <tr>\n",
       "      <th>2020-02-27</th>\n",
       "      <td>0</td>\n",
       "      <td>1</td>\n",
       "    </tr>\n",
       "    <tr>\n",
       "      <th>2020-02-28</th>\n",
       "      <td>1</td>\n",
       "      <td>2</td>\n",
       "    </tr>\n",
       "    <tr>\n",
       "      <th>2020-02-29</th>\n",
       "      <td>2</td>\n",
       "      <td>7</td>\n",
       "    </tr>\n",
       "    <tr>\n",
       "      <th>2020-03-01</th>\n",
       "      <td>3</td>\n",
       "      <td>10</td>\n",
       "    </tr>\n",
       "    <tr>\n",
       "      <th>2020-03-02</th>\n",
       "      <td>4</td>\n",
       "      <td>18</td>\n",
       "    </tr>\n",
       "  </tbody>\n",
       "</table>\n",
       "</div>"
      ],
      "text/plain": [
       "            Timestep  Aantal\n",
       "Datum                       \n",
       "2020-02-27         0       1\n",
       "2020-02-28         1       2\n",
       "2020-02-29         2       7\n",
       "2020-03-01         3      10\n",
       "2020-03-02         4      18"
      ]
     },
     "execution_count": 5,
     "metadata": {},
     "output_type": "execute_result"
    }
   ],
   "source": [
    "# Adding a column of timestep for the curve_fit to the dataframe\n",
    "\n",
    "df_covid['Timestep'] = [timestep for timestep in range(0, len(df_covid))]\n",
    "\n",
    "\n",
    "# Re-arrange the columns \n",
    "\n",
    "cols = df_covid.columns.to_list()\n",
    "cols = cols[1:] + cols[:-1]\n",
    "\n",
    "df_covid = df_covid[cols]\n",
    "df_covid.head()"
   ]
  },
  {
   "cell_type": "code",
   "execution_count": 6,
   "metadata": {},
   "outputs": [
    {
     "data": {
      "text/html": [
       "<div>\n",
       "<style scoped>\n",
       "    .dataframe tbody tr th:only-of-type {\n",
       "        vertical-align: middle;\n",
       "    }\n",
       "\n",
       "    .dataframe tbody tr th {\n",
       "        vertical-align: top;\n",
       "    }\n",
       "\n",
       "    .dataframe thead th {\n",
       "        text-align: right;\n",
       "    }\n",
       "</style>\n",
       "<table border=\"1\" class=\"dataframe\">\n",
       "  <thead>\n",
       "    <tr style=\"text-align: right;\">\n",
       "      <th></th>\n",
       "      <th>Timestep</th>\n",
       "      <th>Total Cases</th>\n",
       "    </tr>\n",
       "    <tr>\n",
       "      <th>Datum</th>\n",
       "      <th></th>\n",
       "      <th></th>\n",
       "    </tr>\n",
       "  </thead>\n",
       "  <tbody>\n",
       "    <tr>\n",
       "      <th>2020-02-27</th>\n",
       "      <td>0</td>\n",
       "      <td>1</td>\n",
       "    </tr>\n",
       "    <tr>\n",
       "      <th>2020-02-28</th>\n",
       "      <td>1</td>\n",
       "      <td>2</td>\n",
       "    </tr>\n",
       "    <tr>\n",
       "      <th>2020-02-29</th>\n",
       "      <td>2</td>\n",
       "      <td>7</td>\n",
       "    </tr>\n",
       "    <tr>\n",
       "      <th>2020-03-01</th>\n",
       "      <td>3</td>\n",
       "      <td>10</td>\n",
       "    </tr>\n",
       "    <tr>\n",
       "      <th>2020-03-02</th>\n",
       "      <td>4</td>\n",
       "      <td>18</td>\n",
       "    </tr>\n",
       "  </tbody>\n",
       "</table>\n",
       "</div>"
      ],
      "text/plain": [
       "            Timestep  Total Cases\n",
       "Datum                            \n",
       "2020-02-27         0            1\n",
       "2020-02-28         1            2\n",
       "2020-02-29         2            7\n",
       "2020-03-01         3           10\n",
       "2020-03-02         4           18"
      ]
     },
     "execution_count": 6,
     "metadata": {},
     "output_type": "execute_result"
    }
   ],
   "source": [
    "# Changing the column name from dutch to english\n",
    "\n",
    "df_covid = df_covid.rename(columns={\"Aantal\":\"Total Cases\"})\n",
    "df_covid.head()"
   ]
  },
  {
   "cell_type": "code",
   "execution_count": 37,
   "metadata": {},
   "outputs": [
    {
     "data": {
      "text/html": [
       "<div>\n",
       "<style scoped>\n",
       "    .dataframe tbody tr th:only-of-type {\n",
       "        vertical-align: middle;\n",
       "    }\n",
       "\n",
       "    .dataframe tbody tr th {\n",
       "        vertical-align: top;\n",
       "    }\n",
       "\n",
       "    .dataframe thead th {\n",
       "        text-align: right;\n",
       "    }\n",
       "</style>\n",
       "<table border=\"1\" class=\"dataframe\">\n",
       "  <thead>\n",
       "    <tr style=\"text-align: right;\">\n",
       "      <th></th>\n",
       "      <th>Timestep</th>\n",
       "      <th>Total Cases</th>\n",
       "      <th>New Cases</th>\n",
       "    </tr>\n",
       "    <tr>\n",
       "      <th>Datum</th>\n",
       "      <th></th>\n",
       "      <th></th>\n",
       "      <th></th>\n",
       "    </tr>\n",
       "  </thead>\n",
       "  <tbody>\n",
       "    <tr>\n",
       "      <th>2020-02-27</th>\n",
       "      <td>0</td>\n",
       "      <td>1</td>\n",
       "      <td>0.0</td>\n",
       "    </tr>\n",
       "    <tr>\n",
       "      <th>2020-02-28</th>\n",
       "      <td>1</td>\n",
       "      <td>2</td>\n",
       "      <td>1.0</td>\n",
       "    </tr>\n",
       "    <tr>\n",
       "      <th>2020-02-29</th>\n",
       "      <td>2</td>\n",
       "      <td>7</td>\n",
       "      <td>5.0</td>\n",
       "    </tr>\n",
       "    <tr>\n",
       "      <th>2020-03-01</th>\n",
       "      <td>3</td>\n",
       "      <td>10</td>\n",
       "      <td>3.0</td>\n",
       "    </tr>\n",
       "    <tr>\n",
       "      <th>2020-03-02</th>\n",
       "      <td>4</td>\n",
       "      <td>18</td>\n",
       "      <td>8.0</td>\n",
       "    </tr>\n",
       "  </tbody>\n",
       "</table>\n",
       "</div>"
      ],
      "text/plain": [
       "            Timestep  Total Cases  New Cases\n",
       "Datum                                       \n",
       "2020-02-27         0            1        0.0\n",
       "2020-02-28         1            2        1.0\n",
       "2020-02-29         2            7        5.0\n",
       "2020-03-01         3           10        3.0\n",
       "2020-03-02         4           18        8.0"
      ]
     },
     "execution_count": 37,
     "metadata": {},
     "output_type": "execute_result"
    }
   ],
   "source": [
    "df_covid['New Cases'] = df_covid[['Total Cases']].diff()\n",
    "df_covid['New Cases'].iloc[0] = 0\n",
    "df_covid.head()"
   ]
  },
  {
   "cell_type": "code",
   "execution_count": 8,
   "metadata": {},
   "outputs": [],
   "source": [
    "# Defining the logistic growth function with 3 parameters (Verhulst) for the population growth\n",
    "\n",
    "# a = alpha (number of days at which the expected numer of cases is half the maximum)\n",
    "# b = Beta (growth paramter / factor)\n",
    "# c = M (expected maximum)\n",
    "# t = time in days \n",
    "\n",
    "def logistic_growth(t, a, b, c):\n",
    "    E = c / (1 + np.exp(-b * (t - a)))\n",
    "    return E\n",
    "    \n",
    "# Obtaining the x and y data\n",
    "\n",
    "x = np.array(df_covid['Timestep'])\n",
    "y = np.array(df_covid['Total Cases'])\n",
    "\n",
    "# Random initiazation of parameters and upper bound limit \n",
    "\n",
    "p0 = np.random.exponential(size = 3)\n",
    "\n",
    "bounds = (0, [10000, 3, 45000]) # upper bounds for the given parameters (alpha, beta, M)"
   ]
  },
  {
   "cell_type": "code",
   "execution_count": 9,
   "metadata": {},
   "outputs": [],
   "source": [
    "# Fitting the logistic growth fucntion and defining the prediction function\n",
    "\n",
    "(alpha, beta, M), logistic_cov = curve_fit(logistic_growth, x, y, bounds=bounds, p0=p0)\n",
    "\n",
    "def logistic_pred(t):\n",
    "    E = M / (1 + np.exp(-beta * (t - alpha)))\n",
    "    return E"
   ]
  },
  {
   "cell_type": "markdown",
   "metadata": {},
   "source": [
    "#### The estimated parameters and statistics:"
   ]
  },
  {
   "cell_type": "code",
   "execution_count": 10,
   "metadata": {},
   "outputs": [],
   "source": [
    "def r_squared_logistic():\n",
    "    residuals = y - logistic_pred(x)\n",
    "    ss_res = np.sum(residuals**2)\n",
    "\n",
    "    ss_tot = np.sum((y - np.mean(y))**2)\n",
    "\n",
    "    R_squared = 1 - (ss_res / ss_tot)\n",
    "    \n",
    "    return R_squared"
   ]
  },
  {
   "cell_type": "code",
   "execution_count": 11,
   "metadata": {},
   "outputs": [],
   "source": [
    "def prt_results_logistic():\n",
    "    logistic_line = '%5s  %16s  %15s' % (\"alpha = \", \"beta = \", \"C = \")\n",
    "    logistic_params = '%5s  %14s  %14s' % (alpha, beta, M)\n",
    "\n",
    "    print(\"**The estimated logistic growth parameters are:**\")\n",
    "    print()\n",
    "    print(logistic_line)\n",
    "    print(logistic_params)\n",
    "\n",
    "    print()\n",
    "    \n",
    "    r2line = \"%5s\" % (\"R^2 = \")\n",
    "    r2_val = \"%12s\" % (r_squared_logistic())\n",
    "    \n",
    "    print(\"**The R^2 value for this logistic growth model is:**\")\n",
    "    print()\n",
    "    print(r2line)\n",
    "    print(r2_val)\n",
    "    print()"
   ]
  },
  {
   "cell_type": "markdown",
   "metadata": {},
   "source": [
    "#### Plotting the results:"
   ]
  },
  {
   "cell_type": "code",
   "execution_count": 12,
   "metadata": {},
   "outputs": [],
   "source": [
    "max_cases = []\n",
    "\n",
    "for i in x:\n",
    "    max_cases.append(M)\n",
    "predicted_max = np.array(max_cases)"
   ]
  },
  {
   "cell_type": "code",
   "execution_count": 13,
   "metadata": {},
   "outputs": [
    {
     "name": "stdout",
     "output_type": "stream",
     "text": [
      "**The estimated logistic growth parameters are:**\n",
      "\n",
      "alpha =            beta =              C = \n",
      "41.78682917765088  0.11501498096338242  43136.358315548256\n",
      "\n",
      "**The R^2 value for this logistic growth model is:**\n",
      "\n",
      "R^2 = \n",
      "0.9981127884274089\n",
      "\n"
     ]
    },
    {
     "data": {
      "image/png": "[encoded data removed]",
      "text/plain": [
       "<Figure size 720x576 with 1 Axes>"
      ]
     },
     "metadata": {
      "needs_background": "light"
     },
     "output_type": "display_data"
    }
   ],
   "source": [
    "plt.figure(figsize=(10,8))\n",
    "\n",
    "plt.scatter(x, y, s=20, marker='o', c='k')\n",
    "plt.plot(x, logistic_pred(x), lw=2, c='blue')\n",
    "plt.plot(x, predicted_max, '-x', c='r')\n",
    "plt.legend(['Logistic Fit', 'Predicted Maximum', 'Actual Data' ])\n",
    "plt.ylim([0, 50000])\n",
    "\n",
    "plt.title(\"Netherlands (Cumulative) COVID-19 cases [13/05/2020]\", Fontsize = 14, weight='bold')\n",
    "plt.xlabel(\"Time (days)\" + \"\\n\\n\" +\" from February 27, 2020\", Fontsize = 14)\n",
    "plt.ylabel(\"Number of Cases\", Fontsize = 14);\n",
    "\n",
    "\n",
    "\n",
    "prt_results_logistic() # Uncomment for statistics"
   ]
  },
  {
   "cell_type": "markdown",
   "metadata": {},
   "source": [
    "### ~~Maxmimum Likelihood Estimation~~ (DEPRECATED)"
   ]
  },
  {
   "cell_type": "code",
   "execution_count": 14,
   "metadata": {},
   "outputs": [],
   "source": [
    "# from scipy.optimize import minimize\n",
    "\n",
    "# def lik(parameters):\n",
    "#     c_mle = parameters[0]\n",
    "#     b_mle = parameters[1]\n",
    "#     a_mle = parameters[2]\n",
    "#     sigma_mle = parameters[3]\n",
    "    \n",
    "#     for i in np.arange(0, len(x)):\n",
    "#         y_exp = c_mle / (1 + np.exp(-b_mle * (x - a_mle)))\n",
    "    \n",
    "#     L = (len(x)/2 * np.log(2 * np.pi) + len(x)/2 * np.log(sigma_mle ** 2) + 1 /\n",
    "#          (2 * sigma_mle ** 2) * sum((y - y_exp) ** 2))\n",
    "#     return L\n",
    "\n",
    "\n",
    "# lik_model = minimize(lik, np.array([1,1,1,1]), method='L-BFGS-B')\n",
    "# c_mle = lik_model['x'][0]\n",
    "# b_mle = lik_model['x'][1]\n",
    "# a_mle = lik_model['x'][2]\n",
    "\n",
    "# y_exp = c_mle / (1 + np.exp(-b_mle * (x - a_mle)))\n",
    "# plt.scatter(x,y)\n",
    "# plt.plot(x, y_exp)\n",
    "# plt.show()\n"
   ]
  },
  {
   "cell_type": "code",
   "execution_count": 15,
   "metadata": {},
   "outputs": [],
   "source": [
    "# def y_exp(t):\n",
    "#     return c_mle / (1 + np.exp(-b_mle * (t - a_mle)))\n"
   ]
  },
  {
   "cell_type": "code",
   "execution_count": 16,
   "metadata": {},
   "outputs": [],
   "source": [
    "# y_exp"
   ]
  },
  {
   "cell_type": "markdown",
   "metadata": {},
   "source": [
    "## ~~Logistic Growth (3 parameters, Verhulst) - Hospital & ICU admission~~ (DEPRECATED)"
   ]
  },
  {
   "cell_type": "markdown",
   "metadata": {},
   "source": [
    "### Hospital admission"
   ]
  },
  {
   "cell_type": "code",
   "execution_count": 17,
   "metadata": {},
   "outputs": [],
   "source": [
    "# df_hosp_nl['Timestep'] = [timestep for timestep in range(0, len(df_hosp_nl))]  # Creating a timestep for each day\n",
    "\n",
    "# # Re-arrange the columns \n",
    "\n",
    "# cols_hosp = df_hosp_nl.columns.to_list()\n",
    "# cols_hosp = cols_hosp[1:] + cols_hosp[:-1]\n",
    "\n",
    "# df_hosp_nl = df_hosp_nl[cols_hosp]\n"
   ]
  },
  {
   "cell_type": "code",
   "execution_count": 18,
   "metadata": {},
   "outputs": [],
   "source": [
    "# df_hosp_nl['New Admissions'] = df_hosp_nl[['Hospital Intake']].diff()\n",
    "# df_hosp_nl['New Admissions'].iloc[0] = 0\n",
    "# df_hosp_nl.head()"
   ]
  },
  {
   "cell_type": "code",
   "execution_count": 19,
   "metadata": {},
   "outputs": [],
   "source": [
    "# Defining the logistic growth function with 3 parameters (Verhulst) for the population growth\n",
    "\n",
    "# # a = alpha (number of days at which the expected numer of cases is half the maximum)\n",
    "# # b = Beta (growth paramter / factor)\n",
    "# # c = M (expected maximum)\n",
    "# # t = time in days \n",
    "\n",
    "# def logistic_growth_hosp(t, a, b, c):\n",
    "#     E = c / (1 + np.exp(-b * (t - a)))\n",
    "#     return E\n",
    "    \n",
    "# # Obtaining the x and y data\n",
    "\n",
    "# x_hosp = np.array(df_hosp_nl['Timestep'])\n",
    "# y_hosp = np.array(df_hosp_nl['Hospital Intake'])\n",
    "\n",
    "# # Random initiazation of parameters and upper bound limit \n",
    "\n",
    "# p0_hosp = np.random.exponential(size = 3)\n",
    "\n",
    "# bounds_hosp = (0, [10000, 3, 20000]) # upper bounds for the given parameters (alpha, beta, M)"
   ]
  },
  {
   "cell_type": "code",
   "execution_count": 20,
   "metadata": {},
   "outputs": [],
   "source": [
    "# # Fitting the logistic growth fucntion and defining the prediction function\n",
    "\n",
    "# (alpha_hosp, beta_hosp, M_hosp), lhosp_cov = curve_fit(logistic_growth_hosp, x_hosp, y_hosp, bounds=bounds_hosp, p0=p0_hosp)\n",
    "\n",
    "# def logistic_pred_hosp(t):\n",
    "#     E = M_hosp / (1 + np.exp(-beta_hosp * (t - alpha_hosp)))\n",
    "#     return E"
   ]
  },
  {
   "cell_type": "markdown",
   "metadata": {},
   "source": [
    "#### The estimated parameters and statistics:\n"
   ]
  },
  {
   "cell_type": "code",
   "execution_count": 21,
   "metadata": {},
   "outputs": [],
   "source": [
    "# def r_squared_logistic_hosp():\n",
    "#     residuals = y_hosp - logistic_pred_hosp(x_hosp)\n",
    "#     ss_res = np.sum(residuals**2)\n",
    "\n",
    "#     ss_tot = np.sum((y_hosp - np.mean(y_hosp))**2)\n",
    "\n",
    "#     R_squared = 1 - (ss_res / ss_tot)\n",
    "    \n",
    "#     return R_squared"
   ]
  },
  {
   "cell_type": "code",
   "execution_count": 22,
   "metadata": {},
   "outputs": [],
   "source": [
    "# def prt_results_logistic_hosp():\n",
    "#     logistic_line = '%5s  %16s  %15s' % (\"alpha_hosp = \", \"beta_hosp = \", \"M_hosp = \")\n",
    "#     logistic_params = '%5s  %14s  %14s' % (alpha_hosp, beta_hosp, M_hosp)\n",
    "\n",
    "#     print(\"**The estimated logistic growth parameters are:**\")\n",
    "#     print()\n",
    "#     print(logistic_line)\n",
    "#     print(logistic_params)\n",
    "\n",
    "#     print()\n",
    "    \n",
    "#     r2line = \"%5s\" % (\"R^2 = \")\n",
    "#     r2_val = \"%12s\" % (r_squared_logistic_hosp())\n",
    "    \n",
    "#     print(\"**The R^2 value for this logistic growth model is:**\")\n",
    "#     print()\n",
    "#     print(r2line)\n",
    "#     print(r2_val)\n",
    "#     print()"
   ]
  },
  {
   "cell_type": "markdown",
   "metadata": {},
   "source": [
    "#### Plotting the results:"
   ]
  },
  {
   "cell_type": "code",
   "execution_count": 23,
   "metadata": {},
   "outputs": [],
   "source": [
    "# max_hosp = []\n",
    "\n",
    "# for i in x_hosp:\n",
    "#     max_hosp.append(M_hosp)\n",
    "# predicted_max_hosp = np.array(max_hosp)"
   ]
  },
  {
   "cell_type": "code",
   "execution_count": 24,
   "metadata": {},
   "outputs": [],
   "source": [
    "# plt.figure(figsize=(10,8))\n",
    "\n",
    "# plt.scatter(x_hosp, y_hosp, s=10, marker='o', c='k')\n",
    "# plt.plot(x_hosp, logistic_pred_hosp(x_hosp), '--', lw=2, c='blue')\n",
    "# plt.plot(x_hosp, predicted_max_hosp, '-x', c='r')\n",
    "# plt.legend(['Logistic Fit', 'Predicted Maximum', 'Actual Data' ])\n",
    "# plt.ylim([0, 15000])\n",
    "\n",
    "# plt.title(\"Netherlands (Cumulative) COVID-19 Hospital Admissions\", Fontsize = 14, weight='bold')\n",
    "# plt.xlabel(\"Time (days)\", Fontsize = 14)\n",
    "# plt.ylabel(\"Number of Intake\", Fontsize = 14);\n",
    "\n",
    "\n",
    "# prt_results_logistic_hosp() # Uncomment for statistics"
   ]
  },
  {
   "cell_type": "markdown",
   "metadata": {},
   "source": [
    "### ICU admission"
   ]
  },
  {
   "cell_type": "code",
   "execution_count": 25,
   "metadata": {},
   "outputs": [],
   "source": [
    "# df_icu_nl['Timestep'] = [timestep for timestep in range(0, len(df_icu_nl))]  # Creating a timestep for each day\n",
    "\n",
    "# # Re-arrange the columns \n",
    "\n",
    "# cols_icu = df_icu_nl.columns.to_list()\n",
    "# cols_icu = cols_icu[1:] + cols_icu[:-1]\n",
    "\n",
    "# df_icu_nl = df_icu_nl[cols_icu]\n"
   ]
  },
  {
   "cell_type": "code",
   "execution_count": 26,
   "metadata": {},
   "outputs": [],
   "source": [
    "# df_icu_nl['New Admissions'] = df_icu_nl[['IC Admission']].diff()\n",
    "# df_icu_nl['New Admissions'].iloc[0] = 0\n",
    "# df_icu_nl.head()"
   ]
  },
  {
   "cell_type": "code",
   "execution_count": 27,
   "metadata": {},
   "outputs": [],
   "source": [
    "# # Defining the logistic growth function with 3 parameters (Verhulst) for the population growth\n",
    "\n",
    "# # a = alpha (number of days at which the expected numer of cases is half the maximum)\n",
    "# # b = Beta (growth paramter / factor)\n",
    "# # c = M (expected maximum)\n",
    "# # t = time in days \n",
    "\n",
    "# def logistic_growth_icu(t, a, b, c):\n",
    "#     E = c / (1 + np.exp(-b * (t - a)))\n",
    "#     return E\n",
    "    \n",
    "# # Obtaining the x and y data\n",
    "\n",
    "# x_icu = np.array(df_icu_nl['Timestep'])\n",
    "# y_icu = np.array(df_icu_nl['IC Admission'])\n",
    "\n",
    "# # Random initiazation of parameters and upper bound limit \n",
    "\n",
    "# p0_icu = np.random.exponential(size = 3)\n",
    "\n",
    "# bounds_icu = (0, [10000, 3, 2000]) # upper bounds for the given parameters (alpha, beta, M)"
   ]
  },
  {
   "cell_type": "code",
   "execution_count": 28,
   "metadata": {},
   "outputs": [],
   "source": [
    "# # Fitting the logistic growth fucntion and defining the prediction function\n",
    "\n",
    "# (alpha_icu, beta_icu, M_icu), licu_cov = curve_fit(logistic_growth_icu, x_icu, y_icu, bounds=bounds_icu, p0=p0_icu)\n",
    "\n",
    "# def logistic_pred_icu(t):\n",
    "#     E = M_icu / (1 + np.exp(-beta_icu * (t - alpha_icu)))\n",
    "#     return E"
   ]
  },
  {
   "cell_type": "markdown",
   "metadata": {},
   "source": [
    "#### The estimated parameters and statistics:"
   ]
  },
  {
   "cell_type": "code",
   "execution_count": 29,
   "metadata": {},
   "outputs": [],
   "source": [
    "# def r_squared_logistic_icu():\n",
    "#     residuals = y_icu - logistic_pred_icu(x_icu)\n",
    "#     ss_res = np.sum(residuals**2)\n",
    "\n",
    "#     ss_tot = np.sum((y_icu - np.mean(y_icu))**2)\n",
    "\n",
    "#     R_squared = 1 - (ss_res / ss_tot)\n",
    "    \n",
    "#     return R_squared"
   ]
  },
  {
   "cell_type": "code",
   "execution_count": 30,
   "metadata": {},
   "outputs": [],
   "source": [
    "# def prt_results_logistic_icu():\n",
    "#     logistic_line = '%5s  %16s  %15s' % (\"alpha_icu = \", \"beta_icu = \", \"M_icu = \")\n",
    "#     logistic_params = '%5s  %14s  %14s' % (alpha_icu, beta_icu, M_icu)\n",
    "\n",
    "#     print(\"**The estimated logistic growth parameters are:**\")\n",
    "#     print()\n",
    "#     print(logistic_line)\n",
    "#     print(logistic_params)\n",
    "\n",
    "#     print()\n",
    "    \n",
    "#     r2line = \"%5s\" % (\"R^2 = \")\n",
    "#     r2_val = \"%12s\" % (r_squared_logistic_icu())\n",
    "    \n",
    "#     print(\"**The R^2 value for this logistic growth model is:**\")\n",
    "#     print()\n",
    "#     print(r2line)\n",
    "#     print(r2_val)\n",
    "#     print()"
   ]
  },
  {
   "cell_type": "markdown",
   "metadata": {},
   "source": [
    "#### Plotting the results"
   ]
  },
  {
   "cell_type": "code",
   "execution_count": 31,
   "metadata": {},
   "outputs": [],
   "source": [
    "# max_icu = []\n",
    "\n",
    "# for i in x_icu:\n",
    "#     max_icu.append(M_icu)\n",
    "# predicted_max_icu = np.array(max_icu)"
   ]
  },
  {
   "cell_type": "code",
   "execution_count": 32,
   "metadata": {},
   "outputs": [],
   "source": [
    "# plt.figure(figsize=(10,8))\n",
    "\n",
    "# plt.scatter(x_icu, y_icu, s=10, marker='o', c='k')\n",
    "# plt.plot(x_icu, logistic_pred_icu(x_icu), '--', lw=2, c='blue')\n",
    "# plt.plot(x_icu, predicted_max_icu, '-x', c='r')\n",
    "# plt.legend(['Logistic Fit', 'Predicted Maximum', 'Actual Data' ])\n",
    "# plt.ylim([0, 1800])\n",
    "\n",
    "# plt.title(\"Netherlands (Cumulative) COVID-19 ICU Admissions\", Fontsize = 14, weight='bold')\n",
    "# plt.xlabel(\"Time (days)\", Fontsize = 14)\n",
    "# plt.ylabel(\"Number of Intake\", Fontsize = 14);\n",
    "\n",
    "\n",
    "# prt_results_logistic_icu() # Uncomment for statistics"
   ]
  },
  {
   "cell_type": "markdown",
   "metadata": {},
   "source": [
    "## Exponential Growth (3 parameters) - Trajectory for Number of Recorded Cases"
   ]
  },
  {
   "cell_type": "markdown",
   "metadata": {},
   "source": [
    "### Fitting curve for current trajectory"
   ]
  },
  {
   "cell_type": "code",
   "execution_count": 33,
   "metadata": {},
   "outputs": [],
   "source": [
    "def exponential(t, a, b, c):\n",
    "    return a * np.exp(b * t) + c\n",
    "\n",
    "p0_exp = np.random.exponential(size = 3)\n",
    "\n",
    "bounds_exp = (0, [1000, 3, 17000000]) # upper bounds for the given parameters (a, b, c)\n",
    "\n",
    "(a, b, c), exp_cov = curve_fit(exponential, x, y, bounds=bounds_exp, p0=p0_exp)\n",
    "\n",
    "def exp_pred(t):\n",
    "    return a * np.exp(b * t) + c"
   ]
  },
  {
   "cell_type": "markdown",
   "metadata": {},
   "source": [
    "### The estimated parameters and statistics:"
   ]
  },
  {
   "cell_type": "code",
   "execution_count": 34,
   "metadata": {},
   "outputs": [],
   "source": [
    "def r_squared_exp():\n",
    "    residuals = y - exp_pred(x)\n",
    "    ss_res = np.sum(residuals**2)\n",
    "\n",
    "    ss_tot = np.sum((y - np.mean(y))**2)\n",
    "\n",
    "    R_squared = 1 - (ss_res / ss_tot)\n",
    "    \n",
    "    return R_squared"
   ]
  },
  {
   "cell_type": "code",
   "execution_count": 35,
   "metadata": {},
   "outputs": [],
   "source": [
    "def prt_results_exp():\n",
    "    exp_line = '%4s  %18s  %18s' % (\"a = \", \"b = \", \"c = \")\n",
    "    exp_params = '%5s  %14s  %14s' % (a, b, c)\n",
    "\n",
    "    print(\"**The estimated exponential growth parameters are:**\")\n",
    "    print()\n",
    "    print(exp_line)\n",
    "    print(exp_params)\n",
    "\n",
    "    print()\n",
    "    \n",
    "    r2line = \"%5s\" % (\"R^2 = \")\n",
    "    r2_val = \"%12s\" % (r_squared_exp())\n",
    "    \n",
    "    print(\"**The R^2 value for this exponential growth model is:**\")\n",
    "    print()\n",
    "    print(r2line)\n",
    "    print(r2_val)\n",
    "    print()\n",
    "    print(\"**A downward deviation from the blue line (predicted trajectory)\")\n",
    "    print(\", means that there is potential decrease in the spread of COVID-19 **\")"
   ]
  },
  {
   "cell_type": "markdown",
   "metadata": {},
   "source": [
    "### Plot Trajectory (Log scale):"
   ]
  },
  {
   "cell_type": "code",
   "execution_count": 36,
   "metadata": {},
   "outputs": [
    {
     "name": "stdout",
     "output_type": "stream",
     "text": [
      "**The estimated exponential growth parameters are:**\n",
      "\n",
      "a =                 b =                 c = \n",
      "999.9999999999999  0.052142519476369366  6095.453382839746\n",
      "\n",
      "**The R^2 value for this exponential growth model is:**\n",
      "\n",
      "R^2 = \n",
      "0.7869871599301808\n",
      "\n",
      "**A downward deviation from the blue line (predicted trajectory)\n",
      ", means that there is potential decrease in the spread of COVID-19 **\n"
     ]
    },
    {
     "data": {
      "image/png": "[encoded data removed]",
      "text/plain": [
       "<Figure size 720x504 with 1 Axes>"
      ]
     },
     "metadata": {
      "needs_background": "light"
     },
     "output_type": "display_data"
    }
   ],
   "source": [
    "plt.figure(figsize=(10,7))\n",
    "\n",
    "\n",
    "plt.plot(x, np.log(exp_pred(x)),'-x',lw=2, c='blue')\n",
    "plt.plot(x, np.log(y),'-o',lw=2, c='red', ms=8)\n",
    "\n",
    "\n",
    "plt.legend(['Predicted trajectory', 'Actual Trajectory'])\n",
    "plt.ylim([0, 15])\n",
    "\n",
    "# arrow = {'facecolor':'black', 'width':2, 'shrink':0.05}\n",
    "# plt.annotate(\"TDQ announced\", xy=(8, 2.0 ), xytext=(8, 0.5), arrowprops=arrow)\n",
    "# plt.annotate(\"Effect taking place\", xy=(15, 3.5 ), xytext=(15, 2.0 ), arrowprops=arrow)\n",
    "\n",
    "plt.title(\"Trajectory of COVID-19 Confirmed Cases (Netherlands) [13/05/2020]\", Fontsize = 14, weight='bold')\n",
    "plt.xlabel(\"Time (days)\" + \"\\n\\n\" +\" from February 27, 2020\", Fontsize = 14)\n",
    "plt.ylabel(\"Total confirmed cases (log scale)\", Fontsize = 14);\n",
    "\n",
    "\n",
    "\n",
    "prt_results_exp()  # Uncomment for statistics "
   ]
  }
 ],
 "metadata": {
  "kernelspec": {
   "display_name": "Python 3",
   "language": "python",
   "name": "python3"
  },
  "language_info": {
   "codemirror_mode": {
    "name": "ipython",
    "version": 3
   },
   "file_extension": ".py",
   "mimetype": "text/x-python",
   "name": "python",
   "nbconvert_exporter": "python",
   "pygments_lexer": "ipython3",
   "version": "3.7.3"
  }
 },
 "nbformat": 4,
 "nbformat_minor": 4
}
